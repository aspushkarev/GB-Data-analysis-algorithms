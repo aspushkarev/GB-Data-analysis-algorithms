{
  "nbformat": 4,
  "nbformat_minor": 0,
  "metadata": {
    "colab": {
      "provenance": []
    },
    "kernelspec": {
      "name": "python3",
      "display_name": "Python 3"
    },
    "language_info": {
      "name": "python"
    }
  },
  "cells": [
    {
      "cell_type": "markdown",
      "source": [
        "**Домашнее задание**\n"
      ],
      "metadata": {
        "id": "wtoMIHEAzpOh"
      }
    },
    {
      "cell_type": "markdown",
      "source": [
        "1. *Измените функцию calc_logloss так, чтобы нули по возможности не попадали в np.log."
      ],
      "metadata": {
        "id": "REnXAtjKzukI"
      }
    },
    {
      "cell_type": "markdown",
      "source": [
        "2. Подберите аргументы функции eval_model для логистической регрессии таким образом, чтобы log loss был минимальным."
      ],
      "metadata": {
        "id": "4ATED-4Oz4pY"
      }
    },
    {
      "cell_type": "markdown",
      "source": [
        "3. Создайте функцию calc_pred_proba, возвращающую предсказанную вероятность класса 1 (на вход подаются W, который уже посчитан функцией eval_model и X, на выходе - массив y_pred_proba)."
      ],
      "metadata": {
        "id": "bWFZ85o80Nqo"
      }
    },
    {
      "cell_type": "markdown",
      "source": [
        "4. Создайте функцию calc_pred, возвращающую предсказанный класс (на вход подаются W, который уже посчитан функцией eval_model и X, на выходе - массив y_pred)"
      ],
      "metadata": {
        "id": "owe0VJg_0SY-"
      }
    },
    {
      "cell_type": "markdown",
      "source": [
        "5. *Реализуйте функции для подсчета Accuracy, матрицы ошибок, точности и полноты, а также F1 score."
      ],
      "metadata": {
        "id": "WwOr8v9_0XbT"
      }
    },
    {
      "cell_type": "markdown",
      "source": [
        "6. Могла ли модель переобучиться? Почему?"
      ],
      "metadata": {
        "id": "oCAY1t5R0awB"
      }
    },
    {
      "cell_type": "code",
      "source": [
        "import numpy as np\n",
        "import pandas as pd\n",
        "import matplotlib.pyplot as plt\n",
        "\n",
        "%matplotlib inline\n",
        "import warnings\n",
        "warnings.filterwarnings('ignore')"
      ],
      "metadata": {
        "id": "HFBgcgyATm_2"
      },
      "execution_count": 191,
      "outputs": []
    },
    {
      "cell_type": "code",
      "source": [
        "X = np.array([ [   1,    1,  500,    1],\n",
        "               [   1,    1,  700,    1],\n",
        "               [   1,    2,  750,    2],\n",
        "               [   1,    5,  600,    1],\n",
        "               [   1,    3, 1450,    2],\n",
        "               [   1,    0,  800,    1],\n",
        "               [   1,    5, 1500,    3],\n",
        "               [   1,   10, 2000,    3],\n",
        "               [   1,    1,  450,    1],\n",
        "               [   1,    2, 1000,    2]], dtype=np.float64)\n",
        "\n",
        "y = np.array([0, 0, 1, 0, 1, 0, 1, 0, 1, 1], dtype=np.float64)"
      ],
      "metadata": {
        "id": "FF-Idee4c64b"
      },
      "execution_count": 192,
      "outputs": []
    },
    {
      "cell_type": "code",
      "source": [
        "print(X)"
      ],
      "metadata": {
        "colab": {
          "base_uri": "https://localhost:8080/"
        },
        "id": "u56sESKNc-5A",
        "outputId": "c0d54933-5c65-4435-a1df-76aa0c7cdd93"
      },
      "execution_count": 193,
      "outputs": [
        {
          "output_type": "stream",
          "name": "stdout",
          "text": [
            "[[1.00e+00 1.00e+00 5.00e+02 1.00e+00]\n",
            " [1.00e+00 1.00e+00 7.00e+02 1.00e+00]\n",
            " [1.00e+00 2.00e+00 7.50e+02 2.00e+00]\n",
            " [1.00e+00 5.00e+00 6.00e+02 1.00e+00]\n",
            " [1.00e+00 3.00e+00 1.45e+03 2.00e+00]\n",
            " [1.00e+00 0.00e+00 8.00e+02 1.00e+00]\n",
            " [1.00e+00 5.00e+00 1.50e+03 3.00e+00]\n",
            " [1.00e+00 1.00e+01 2.00e+03 3.00e+00]\n",
            " [1.00e+00 1.00e+00 4.50e+02 1.00e+00]\n",
            " [1.00e+00 2.00e+00 1.00e+03 2.00e+00]]\n"
          ]
        }
      ]
    },
    {
      "cell_type": "code",
      "source": [
        "print(y)"
      ],
      "metadata": {
        "colab": {
          "base_uri": "https://localhost:8080/"
        },
        "id": "nUlHJ_xYdHyk",
        "outputId": "72e46e4e-70fc-46ee-c2ab-f4e44289c9a4"
      },
      "execution_count": 194,
      "outputs": [
        {
          "output_type": "stream",
          "name": "stdout",
          "text": [
            "[0. 0. 1. 0. 1. 0. 1. 0. 1. 1.]\n"
          ]
        }
      ]
    },
    {
      "cell_type": "code",
      "source": [
        "def standard_scale(x):\n",
        "    res = (x - x.mean()) / x.std()\n",
        "    return res"
      ],
      "metadata": {
        "id": "-E09uActeINL"
      },
      "execution_count": 195,
      "outputs": []
    },
    {
      "cell_type": "code",
      "source": [
        "X_st = X.copy()\n",
        "X_st[:, 2] = standard_scale(X[:, 2])"
      ],
      "metadata": {
        "id": "ULEMCZPYeUm9"
      },
      "execution_count": 196,
      "outputs": []
    },
    {
      "cell_type": "code",
      "source": [
        "X_st[:, 2]"
      ],
      "metadata": {
        "colab": {
          "base_uri": "https://localhost:8080/"
        },
        "id": "lbznd-oJeVip",
        "outputId": "f36f2c09-e0c7-4c29-f675-a5698c9cd5a9"
      },
      "execution_count": 197,
      "outputs": [
        {
          "output_type": "execute_result",
          "data": {
            "text/plain": [
              "array([-0.97958969, -0.56713087, -0.46401617, -0.77336028,  0.97958969,\n",
              "       -0.36090146,  1.08270439,  2.11385144, -1.08270439,  0.05155735])"
            ]
          },
          "metadata": {},
          "execution_count": 197
        }
      ]
    },
    {
      "cell_type": "code",
      "source": [
        "from numpy import ma\n",
        "def calc_logloss(y, y_pred):\n",
        "\n",
        "    # err = - np.mean(y * np.log(y_pred) + (1.0 - y) * np.log(1.0 - y_pred))\n",
        "\n",
        "    # Первый способ, который я нашел в мануале к библиотеке numpy, в которой есть модуль ma с разными методами\n",
        "    err = - np.mean(y * ma.log(y_pred) + (1.0 - y) * ma.log(1.0 - y_pred))\n",
        "\n",
        "    # Второй способ, но доверие вызывает первый найденный способ. Какой же метод правильный?\n",
        "    #err = - np.mean(y * ma.filled(np.log(ma.masked_equal(y_pred, 0)), 0) + (1.0 - y) * ma.filled(np.log(ma.masked_equal((1.0 - y_pred), 0)), 0))\n",
        "\n",
        "    # Третий вариант решения проблемы. But, where is true?\n",
        "    # err = - np.mean(y * np.log(y_pred + 1e-20) + (1.0 - y) * np.log(1.0 - y_pred + 1e-20))\n",
        "\n",
        "    return err"
      ],
      "metadata": {
        "id": "pD1KxLZkej87"
      },
      "execution_count": 198,
      "outputs": []
    },
    {
      "cell_type": "code",
      "source": [
        "# Пример применения\n",
        "y1 = np.array([1, 0])\n",
        "y_pred1 = np.array([0.8, 0.1])\n",
        "calc_logloss(y1, y_pred1)"
      ],
      "metadata": {
        "colab": {
          "base_uri": "https://localhost:8080/"
        },
        "id": "1C0KISYfftBc",
        "outputId": "9103158d-dcfb-45df-da9d-5a871d95c183"
      },
      "execution_count": 199,
      "outputs": [
        {
          "output_type": "execute_result",
          "data": {
            "text/plain": [
              "0.164252033486018"
            ]
          },
          "metadata": {},
          "execution_count": 199
        }
      ]
    },
    {
      "cell_type": "code",
      "source": [
        "# Пример применения функции calc_logloss в крайних значениях вероятности\n",
        "y1 = np.array([1, 0])\n",
        "y_pred1 = np.array([0.7, 1])\n",
        "calc_logloss(y1, y_pred1)"
      ],
      "metadata": {
        "colab": {
          "base_uri": "https://localhost:8080/"
        },
        "id": "p4w0bJdVf4On",
        "outputId": "a79e0e67-e424-46c9-fa66-4d88e01a049d"
      },
      "execution_count": 200,
      "outputs": [
        {
          "output_type": "execute_result",
          "data": {
            "text/plain": [
              "0.35667494393873245"
            ]
          },
          "metadata": {},
          "execution_count": 200
        }
      ]
    },
    {
      "cell_type": "markdown",
      "source": [
        "Посмотрел, какие значения заменяются и как. Интересные возможности у модуля ma. Как можно видеть, заменяются крайние значения 0 и 1 на 1e+20"
      ],
      "metadata": {
        "id": "BuhsruqTyb_b"
      }
    },
    {
      "cell_type": "code",
      "source": [
        "y_pred1 = np.array([0.7, 1])\n",
        "y_pred1.view(ma.MaskedArray)"
      ],
      "metadata": {
        "colab": {
          "base_uri": "https://localhost:8080/"
        },
        "id": "nDTi0Nanwj_Y",
        "outputId": "5d525bac-03ef-4d75-9b61-2385f690b9c7"
      },
      "execution_count": 201,
      "outputs": [
        {
          "output_type": "execute_result",
          "data": {
            "text/plain": [
              "masked_array(data=[0.7, 1. ],\n",
              "             mask=False,\n",
              "       fill_value=1e+20)"
            ]
          },
          "metadata": {},
          "execution_count": 201
        }
      ]
    },
    {
      "cell_type": "code",
      "source": [
        "y_pred1 = np.array([0.7, 0])\n",
        "y_pred1.view(ma.MaskedArray)"
      ],
      "metadata": {
        "colab": {
          "base_uri": "https://localhost:8080/"
        },
        "id": "TBGaI5M2wzd9",
        "outputId": "04e3dc5e-913b-49c2-967a-9347035682c5"
      },
      "execution_count": 202,
      "outputs": [
        {
          "output_type": "execute_result",
          "data": {
            "text/plain": [
              "masked_array(data=[0.7, 0. ],\n",
              "             mask=False,\n",
              "       fill_value=1e+20)"
            ]
          },
          "metadata": {},
          "execution_count": 202
        }
      ]
    },
    {
      "cell_type": "code",
      "source": [
        "# Реализация функции сигмоид\n",
        "def sigmoid(z):\n",
        "    res = 1 / (1 + np.exp(-z))\n",
        "    return res"
      ],
      "metadata": {
        "id": "d2wxva48VmYZ"
      },
      "execution_count": 203,
      "outputs": []
    },
    {
      "cell_type": "code",
      "source": [
        "z = np.linspace(-10, 10, 101)"
      ],
      "metadata": {
        "id": "dQFKHpyUVobC"
      },
      "execution_count": 204,
      "outputs": []
    },
    {
      "cell_type": "code",
      "source": [
        "probabilities = sigmoid(z)"
      ],
      "metadata": {
        "id": "H3dOTpPtVzrF"
      },
      "execution_count": 205,
      "outputs": []
    },
    {
      "cell_type": "code",
      "source": [
        "plt.plot(z, probabilities)\n",
        "plt.grid()\n",
        "plt.xlabel('Значение')\n",
        "plt.ylabel('Вероятность')\n",
        "plt.show()"
      ],
      "metadata": {
        "colab": {
          "base_uri": "https://localhost:8080/",
          "height": 279
        },
        "id": "a9VtvduGV9-r",
        "outputId": "b0530762-ed84-4f75-b4e0-4f5281866d4c"
      },
      "execution_count": 206,
      "outputs": [
        {
          "output_type": "display_data",
          "data": {
            "text/plain": [
              "<Figure size 432x288 with 1 Axes>"
            ],
            "image/png": "[encoded data removed]"
          },
          "metadata": {
            "needs_background": "light"
          }
        }
      ]
    },
    {
      "cell_type": "code",
      "source": [
        "# Функция для обучения логистической регрессии\n",
        "def eval_model(X, y, iterations, eta):\n",
        "    np.random.seed(42)\n",
        "    W = np.random.randn(X.shape[1])\n",
        "    n = X.shape[0]\n",
        "    \n",
        "    for i in range(iterations):\n",
        "        z = np.dot(X, W)\n",
        "        y_pred = sigmoid(z)\n",
        "        err = calc_logloss(y, y_pred)\n",
        "        \n",
        "        dQ = 1/n * X.T @ (y_pred - y)\n",
        "        W -= eta * dQ\n",
        "        if i % (iterations / 10) == 0:\n",
        "            print(f'Iteration {i}, Weights {W}, Error {err}')\n",
        "    print(f'Iteration {i}, Weights {W}, Error {err}')\n",
        "    return W"
      ],
      "metadata": {
        "id": "0U0yFoKzWnfh"
      },
      "execution_count": 207,
      "outputs": []
    },
    {
      "cell_type": "code",
      "source": [
        "W = eval_model(X_st, y, iterations=2000, eta=5e-1)"
      ],
      "metadata": {
        "colab": {
          "base_uri": "https://localhost:8080/"
        },
        "id": "TZeFmgNwWqn6",
        "outputId": "7d54d305-a2c0-455b-e463-16fa819c27e1"
      },
      "execution_count": 208,
      "outputs": [
        {
          "output_type": "stream",
          "name": "stdout",
          "text": [
            "Iteration 0, Weights [ 0.30702071 -0.8637023   0.63399833  1.23995672], Error 1.1785958344356262\n",
            "Iteration 200, Weights [-2.53264337 -0.94588146  0.39552518  3.14199572], Error 0.3752284697746543\n",
            "Iteration 400, Weights [-4.28744535 -0.98196006 -0.2781919   4.26931712], Error 0.3265546604744958\n",
            "Iteration 600, Weights [-5.56950119 -1.03216267 -0.74142878  5.15783361], Error 0.2998616158977683\n",
            "Iteration 800, Weights [-6.59307924 -1.08615127 -1.09354157  5.90394621], Error 0.2824776604055235\n",
            "Iteration 1000, Weights [-7.46176644 -1.1397904  -1.38249421  6.5578009 ], Error 0.2697605571663567\n",
            "Iteration 1200, Weights [-8.22951246 -1.19196588 -1.63182265  7.14808224], Error 0.25971627629974436\n",
            "Iteration 1400, Weights [-8.92678929 -1.24245    -1.85427212  7.69204644], Error 0.2513651405495681\n",
            "Iteration 1600, Weights [-9.57202992 -1.29127697 -2.05732739  8.20061177], Error 0.24417283112673355\n",
            "Iteration 1800, Weights [-10.1770298   -1.3385517   -2.24567523   8.68100834], Error 0.23782320135351806\n",
            "Iteration 1999, Weights [-10.74690483  -1.38416322  -2.42154793   9.13598506], Error 0.23214380790245145\n"
          ]
        }
      ]
    },
    {
      "cell_type": "code",
      "source": [
        "print(f'Weights {W}')"
      ],
      "metadata": {
        "colab": {
          "base_uri": "https://localhost:8080/"
        },
        "id": "ID3K3L3kW0k6",
        "outputId": "85e55255-2475-438a-970c-545cb21575cd"
      },
      "execution_count": 209,
      "outputs": [
        {
          "output_type": "stream",
          "name": "stdout",
          "text": [
            "Weights [-10.74690483  -1.38416322  -2.42154793   9.13598506]\n"
          ]
        }
      ]
    },
    {
      "cell_type": "code",
      "source": [
        "# Функция для предсказания вероятности быть целевым классом\n",
        "def calc_pred_proba(W, X):\n",
        "  return sigmoid(np.dot(X, W))"
      ],
      "metadata": {
        "id": "tRc6qDydSGmS"
      },
      "execution_count": 226,
      "outputs": []
    },
    {
      "cell_type": "code",
      "source": [
        "y_pred_proba = calc_pred_proba(W, X_st)\n",
        "print(y_pred_proba)"
      ],
      "metadata": {
        "colab": {
          "base_uri": "https://localhost:8080/"
        },
        "id": "hNicDiY8oGql",
        "outputId": "acb01d19-fcbf-41b8-ff80-6b0fd9c05f79"
      },
      "execution_count": 227,
      "outputs": [
        {
          "output_type": "stream",
          "name": "stdout",
          "text": [
            "[0.34910863 0.16496389 0.99721405 0.00128078 0.73114749 0.32366498\n",
            " 0.9991906  0.09117478 0.40775294 0.99035754]\n"
          ]
        }
      ]
    },
    {
      "cell_type": "code",
      "source": [
        "# Функция предсказания класса\n",
        "def calc_pred(W, X, edge):\n",
        "  m = X.shape[0]\n",
        "    \n",
        "  y_pred = np.zeros(m)\n",
        "\n",
        "  A = np.squeeze(sigmoid(np.dot(X, W)))\n",
        "\n",
        "  # За порог отнесения к тому или иному классу примем вероятность равную edge\n",
        "  for i in range(A.shape[0]):\n",
        "      if A[i] > edge: \n",
        "        y_pred[i] = 1\n",
        "      elif A[i] <= edge:\n",
        "        y_pred[i] = 0\n",
        "  return y_pred"
      ],
      "metadata": {
        "id": "LuqxHr6sSidm"
      },
      "execution_count": 212,
      "outputs": []
    },
    {
      "cell_type": "code",
      "source": [
        "y_pred = calc_pred(W, X_st, 0.4)\n",
        "print(y_pred)"
      ],
      "metadata": {
        "colab": {
          "base_uri": "https://localhost:8080/"
        },
        "id": "V_cOr_KJo7mp",
        "outputId": "3a4f3210-df01-4452-e481-e1c6eb7d1a53"
      },
      "execution_count": 228,
      "outputs": [
        {
          "output_type": "stream",
          "name": "stdout",
          "text": [
            "[0. 0. 1. 0. 1. 0. 1. 0. 1. 1.]\n"
          ]
        }
      ]
    },
    {
      "cell_type": "code",
      "source": [
        "# Функция для формирования матрицы ошибок\n",
        "def get_matrix_errors(y, y_pred):\n",
        "    TP = (y[y_pred == 1] == y_pred[y_pred ==1 ]).sum()\n",
        "    FP = (y[y_pred == 1]!= y_pred[y_pred == 1]).sum()\n",
        "    FN = (y[y_pred == 0]!= y_pred[y_pred == 0]).sum()\n",
        "    TN = (y[y_pred == 0] == y_pred[y_pred == 0]).sum()\n",
        "    return np.array([[TP, FP],\n",
        "                     [FN, TN]])"
      ],
      "metadata": {
        "id": "CizlgVKFg-YE"
      },
      "execution_count": 229,
      "outputs": []
    },
    {
      "cell_type": "code",
      "source": [
        "m_errors = get_matrix_errors(y, y_pred)\n",
        "print(m_errors)"
      ],
      "metadata": {
        "colab": {
          "base_uri": "https://localhost:8080/"
        },
        "id": "330mUM0ppKwZ",
        "outputId": "de85564f-236a-47ed-bbef-6ab3a5d81dc0"
      },
      "execution_count": 230,
      "outputs": [
        {
          "output_type": "stream",
          "name": "stdout",
          "text": [
            "[[5 0]\n",
            " [0 5]]\n"
          ]
        }
      ]
    },
    {
      "cell_type": "code",
      "source": [
        "def get_metrics(matrix_erros):\n",
        "  TP = matrix_erros[0][0]\n",
        "  FP = matrix_erros[0][1]\n",
        "  FN = matrix_erros[1][0]\n",
        "  TN = matrix_erros[1][1]\n",
        "\n",
        "  accuracy = (TP + TN) / (TP + FP + FN + TN)\n",
        "  precision = TP / (TP + FP)\n",
        "  recall = TP / (TP + FN)\n",
        "  f1_score = 2 * precision * recall / (precision + recall)\n",
        "  \n",
        "  return accuracy, precision, recall, f1_score"
      ],
      "metadata": {
        "id": "R9zGIc-Gw4Qe"
      },
      "execution_count": 231,
      "outputs": []
    },
    {
      "cell_type": "code",
      "source": [
        "accuracy, precision, recall, f1_score = get_metrics(m_errors)"
      ],
      "metadata": {
        "id": "eHr2OSclzUxb"
      },
      "execution_count": 232,
      "outputs": []
    },
    {
      "cell_type": "code",
      "source": [
        "print(f'Accuracy: {accuracy}')\n",
        "print(f'Precision: {precision}')\n",
        "print(f'Recall: {recall}')\n",
        "print(f'F1_score: {f1_score}')"
      ],
      "metadata": {
        "colab": {
          "base_uri": "https://localhost:8080/"
        },
        "id": "dRCQiJLKzk7t",
        "outputId": "54dc8b2e-4c3b-4a1c-b544-bfda09157fd6"
      },
      "execution_count": 233,
      "outputs": [
        {
          "output_type": "stream",
          "name": "stdout",
          "text": [
            "Accuracy: 1.0\n",
            "Precision: 1.0\n",
            "Recall: 1.0\n",
            "F1_score: 1.0\n"
          ]
        }
      ]
    },
    {
      "cell_type": "markdown",
      "source": [
        "Проект *:\n",
        "\n",
        "https://www.kaggle.com/c/gb-tutors-expected-math-exam-results \n",
        "регрессия\n",
        "\n",
        "https://www.kaggle.com/c/gb-choose-tutors \n",
        "классификация"
      ],
      "metadata": {
        "id": "IrbRRJOE0mc5"
      }
    },
    {
      "cell_type": "code",
      "execution_count": 218,
      "metadata": {
        "id": "MLZGrbLsyl0m"
      },
      "outputs": [],
      "source": []
    },
    {
      "cell_type": "markdown",
      "source": [
        "**Дополнительные материалы**"
      ],
      "metadata": {
        "id": "KlnolQ3h1F_B"
      }
    },
    {
      "cell_type": "markdown",
      "source": [
        "1. [Функции потерь для классификации](https://en.wikipedia.org/wiki/Loss_functions_for_classification)\n",
        "\n",
        "2. Метод максимального правдоподобия: [Сложное описание](https://habr.com/ru/company/ods/blog/323890/#metod-maksimalnogo-pravdopodobiya) / [Простое описание](https://www.youtube.com/watch?v=2iRIqkm1mug)\n",
        "\n",
        "3. [Встроенные датасеты Sklearn](https://scikit-learn.org/stable/modules/classes.html#module-sklearn.datasets)\n",
        "\n",
        "4. Площаль под кривой [numpy.trapz](https://docs.scipy.org/doc/numpy-1.13.0/reference/generated/numpy.trapz.html)\n",
        "5. [Видео про метрику Accuracy](https://youtu.be/CCH-1gJo_z0)\n",
        "6. [Видео про метрики Precision, Recall](https://youtu.be/AfnBHL832Eg)\n",
        "7. [Видео про метрику F-score](https://youtu.be/PeE3Fkt5W3Q)\n",
        "8. [Видео про метрику PR-AUC](https://youtu.be/QW-09jHQH-w)"
      ],
      "metadata": {
        "id": "FkbUUffB06tp"
      }
    }
  ]
}