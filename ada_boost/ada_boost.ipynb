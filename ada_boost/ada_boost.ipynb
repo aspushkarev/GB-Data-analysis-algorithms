{
  "nbformat": 4,
  "nbformat_minor": 0,
  "metadata": {
    "colab": {
      "provenance": []
    },
    "kernelspec": {
      "name": "python3",
      "display_name": "Python 3"
    },
    "language_info": {
      "name": "python"
    }
  },
  "cells": [
    {
      "cell_type": "markdown",
      "source": [
        "Домашнее задание"
      ],
      "metadata": {
        "id": "KSJVrHoIfZfE"
      }
    },
    {
      "cell_type": "markdown",
      "source": [
        "Для реализованной в методичке модели градиентного бустинга построить зависимости ошибки от количества деревьев при разных значениях шага градиента на одном графике и для разной глубины деревьев на другом.\n",
        "Сделать выводы о зависимости ошибки от этих гиперпараметров (шаг градиента, максимальная глубина деревьев, количество деревьев).\n",
        "Подобрать оптимальные значения этих гиперпараметров (минимум ошибки на тесте при отсутствии переобучения)."
      ],
      "metadata": {
        "id": "2P4EYyKufXgK"
      }
    },
    {
      "cell_type": "code",
      "execution_count": 122,
      "metadata": {
        "id": "CtmlRYzlfPiE"
      },
      "outputs": [],
      "source": [
        "from sklearn.datasets import load_diabetes\n",
        "from sklearn.model_selection import train_test_split\n",
        "from sklearn.tree import DecisionTreeRegressor\n",
        "import matplotlib.pyplot as plt\n",
        "import numpy as np"
      ]
    },
    {
      "cell_type": "code",
      "source": [
        "X, y = load_diabetes(return_X_y=True)\n",
        "X.shape, y.shape"
      ],
      "metadata": {
        "colab": {
          "base_uri": "https://localhost:8080/"
        },
        "id": "MbOGoQGQgP-K",
        "outputId": "b0c0e497-9753-4415-b3c6-d5b923b8d8fe"
      },
      "execution_count": 123,
      "outputs": [
        {
          "output_type": "execute_result",
          "data": {
            "text/plain": [
              "((442, 10), (442,))"
            ]
          },
          "metadata": {},
          "execution_count": 123
        }
      ]
    },
    {
      "cell_type": "code",
      "source": [
        "X_train, X_test, y_train, y_test = train_test_split(X, y, test_size=0.25, random_state=32)"
      ],
      "metadata": {
        "id": "zRzalKihgYTo"
      },
      "execution_count": 124,
      "outputs": []
    },
    {
      "cell_type": "markdown",
      "source": [
        "Напишем функцию, реализующую предсказание в градиентном бустинге."
      ],
      "metadata": {
        "id": "hMJLOGqlsixz"
      }
    },
    {
      "cell_type": "code",
      "source": [
        "def gb_predict(X, trees_list, eta):\n",
        "    # Реализуемый алгоритм градиентного бустинга будет инициализироваться нулевыми значениями,\n",
        "    # поэтому все деревья из списка trees_list уже являются дополнительными и при предсказании\n",
        "    # прибавляются с шагом eta\n",
        "    \n",
        "#     predictions = np.zeros(X.shape[0])\n",
        "#     for i, x in enumerate(X):\n",
        "#         prediction = 0\n",
        "#         for alg in trees_list:\n",
        "#             prediction += eta * alg.predict([x])[0]\n",
        "#         predictions[i] = prediction\n",
        "        \n",
        "    predictions = np.array(\n",
        "        [sum([eta * alg.predict([x])[0] for alg in trees_list]) for x in X]\n",
        "    )\n",
        "\n",
        "    return predictions"
      ],
      "metadata": {
        "id": "FXyixbIwhcFZ"
      },
      "execution_count": 125,
      "outputs": []
    },
    {
      "cell_type": "markdown",
      "source": [
        "В качестве функционала ошибки будем использовать среднеквадратичную ошибку. Реализуем соответствующую функцию."
      ],
      "metadata": {
        "id": "CiYeik-Bsql5"
      }
    },
    {
      "cell_type": "code",
      "source": [
        "def mean_squared_error(y_real, prediction):\n",
        "    return (sum((y_real - prediction) ** 2)) / len(y_real)"
      ],
      "metadata": {
        "id": "6j41ocn4hkI2"
      },
      "execution_count": 126,
      "outputs": []
    },
    {
      "cell_type": "markdown",
      "source": [
        "Используем  𝐿2  loss  𝐿(𝑦,𝑧)=(𝑦−𝑧)2,  ее производная по  𝑧  примет вид  𝐿′(𝑦,𝑧)=2(𝑧−𝑦) . Реализуем ее также в виде функции (коэффициент 2 можно отбросить)."
      ],
      "metadata": {
        "id": "fpzB11Cbs2tt"
      }
    },
    {
      "cell_type": "code",
      "source": [
        "def residual(y, z):\n",
        "    return - (z - y)"
      ],
      "metadata": {
        "id": "mgd8LbzshxFk"
      },
      "execution_count": 127,
      "outputs": []
    },
    {
      "cell_type": "markdown",
      "source": [
        "Реализуем функцию обучения градиентного бустинга."
      ],
      "metadata": {
        "id": "srtLZggYtAnf"
      }
    },
    {
      "cell_type": "code",
      "source": [
        "def gb_fit(n_trees, max_depth, X_train, X_test, y_train, y_test, eta):\n",
        "    \n",
        "    # Деревья будем записывать в список\n",
        "    trees = []\n",
        "    \n",
        "    # Будем записывать ошибки на обучающей и тестовой выборке на каждой итерации в список\n",
        "    train_errors = []\n",
        "    test_errors = []\n",
        "    \n",
        "    for i in range(n_trees):\n",
        "        tree = DecisionTreeRegressor(max_depth=max_depth, random_state=42)\n",
        "\n",
        "        # первый алгоритм просто обучаем на выборке и добавляем в список\n",
        "        if len(trees) == 0:\n",
        "            # обучаем первое дерево на обучающей выборке\n",
        "            tree.fit(X_train, y_train)\n",
        "            \n",
        "            train_errors.append(mean_squared_error(y_train, gb_predict(X_train, trees, eta)))\n",
        "            test_errors.append(mean_squared_error(y_test, gb_predict(X_test, trees, eta)))\n",
        "        else:\n",
        "            # Получим ответы на текущей композиции\n",
        "            target = gb_predict(X_train, trees, eta)\n",
        "            \n",
        "            # алгоритмы начиная со второго обучаем на сдвиг\n",
        "            tree.fit(X_train, residual(y_train, target))\n",
        "            \n",
        "            train_errors.append(mean_squared_error(y_train, gb_predict(X_train, trees, eta)))\n",
        "            test_errors.append(mean_squared_error(y_test, gb_predict(X_test, trees, eta)))\n",
        "\n",
        "        trees.append(tree)\n",
        "        \n",
        "    return trees, train_errors, test_errors"
      ],
      "metadata": {
        "id": "EUZY6gy6h3kK"
      },
      "execution_count": 128,
      "outputs": []
    },
    {
      "cell_type": "markdown",
      "source": [
        "Теперь обучим несколько моделей с разными параметрами и исследуем их поведение"
      ],
      "metadata": {
        "id": "3_TYO9wjtIo3"
      }
    },
    {
      "cell_type": "code",
      "source": [
        "# Число деревьев в ансамбле\n",
        "n_trees = 10\n",
        "\n",
        "# Максимальная глубина деревьев\n",
        "max_depth = 3\n",
        "\n",
        "# Шаг\n",
        "eta = 1\n",
        "\n",
        "trees, train_errors, test_errors = gb_fit(n_trees, max_depth, X_train, X_test, y_train, y_test, eta)"
      ],
      "metadata": {
        "id": "avJ_VkGFh4OZ"
      },
      "execution_count": 129,
      "outputs": []
    },
    {
      "cell_type": "code",
      "source": [
        "def evaluate_alg(X_train, X_test, y_train, y_test, trees, eta):\n",
        "    train_prediction = gb_predict(X_train, trees, eta)\n",
        "\n",
        "    print(f'Ошибка алгоритма из {n_trees} деревьев глубиной {max_depth} \\\n",
        "    с шагом {eta} на тренировочной выборке: {mean_squared_error(y_train, train_prediction)}')\n",
        "\n",
        "    test_prediction = gb_predict(X_test, trees, eta)\n",
        "\n",
        "    print(f'Ошибка алгоритма из {n_trees} деревьев глубиной {max_depth} \\\n",
        "    с шагом {eta} на тестовой выборке: {mean_squared_error(y_test, test_prediction)}')"
      ],
      "metadata": {
        "id": "NpNDbClFiDBO"
      },
      "execution_count": 130,
      "outputs": []
    },
    {
      "cell_type": "code",
      "source": [
        "evaluate_alg(X_train, X_test, y_train, y_test, trees, eta)"
      ],
      "metadata": {
        "colab": {
          "base_uri": "https://localhost:8080/"
        },
        "id": "V-EOAHEXiGaD",
        "outputId": "a2d25da6-193b-480f-fb76-7c8664c38dbf"
      },
      "execution_count": 131,
      "outputs": [
        {
          "output_type": "stream",
          "name": "stdout",
          "text": [
            "Ошибка алгоритма из 10 деревьев глубиной 3     с шагом 1 на тренировочной выборке: 1095.8420365465063\n",
            "Ошибка алгоритма из 10 деревьев глубиной 3     с шагом 1 на тестовой выборке: 4505.368600436559\n"
          ]
        }
      ]
    },
    {
      "cell_type": "markdown",
      "source": [
        "Построим графики зависимости ошибки на обучающей и тестовой выборках от числа итераций."
      ],
      "metadata": {
        "id": "aqpXSMeSiQFh"
      }
    },
    {
      "cell_type": "code",
      "source": [
        "def get_error_plot(n_trees, train_err, test_err):\n",
        "    plt.xlabel('Iteration number')\n",
        "    plt.ylabel('MSE')\n",
        "    plt.xlim(0, n_trees)\n",
        "    plt.plot(list(range(n_trees)), train_err, label='train error')\n",
        "    plt.plot(list(range(n_trees)), test_err, label='test error')\n",
        "    plt.legend(loc='upper right')\n",
        "    plt.show()"
      ],
      "metadata": {
        "id": "Uz5nQjofiPu2"
      },
      "execution_count": 132,
      "outputs": []
    },
    {
      "cell_type": "code",
      "source": [
        "get_error_plot(n_trees, train_errors, test_errors)"
      ],
      "metadata": {
        "colab": {
          "base_uri": "https://localhost:8080/",
          "height": 279
        },
        "id": "bYrJfX2AiW4O",
        "outputId": "cd3574a1-35d6-43c1-b8ec-1f8ca68fe5bc"
      },
      "execution_count": 133,
      "outputs": [
        {
          "output_type": "display_data",
          "data": {
            "text/plain": [
              "<Figure size 432x288 with 1 Axes>"
            ],
            "image/png": "[encoded data removed]"
          },
          "metadata": {
            "needs_background": "light"
          }
        }
      ]
    },
    {
      "cell_type": "markdown",
      "source": [
        "Такой результат не является удовлетворительным"
      ],
      "metadata": {
        "id": "_4OLQrNRtrcN"
      }
    },
    {
      "cell_type": "markdown",
      "source": [
        "Увеличим число деревьев"
      ],
      "metadata": {
        "id": "IaKYRMMYtwTY"
      }
    },
    {
      "cell_type": "code",
      "source": [
        "%%time\n",
        "n_trees = 50\n",
        "eta = 1\n",
        "\n",
        "trees_1, train_errors_1, test_errors_1 = gb_fit(n_trees, max_depth, X_train, X_test, y_train, y_test, eta)"
      ],
      "metadata": {
        "colab": {
          "base_uri": "https://localhost:8080/"
        },
        "id": "N6SHSQevtsft",
        "outputId": "d3c61c5c-98d1-4497-a774-ce2eba67e403"
      },
      "execution_count": 146,
      "outputs": [
        {
          "output_type": "stream",
          "name": "stdout",
          "text": [
            "CPU times: user 1min 55s, sys: 1.34 s, total: 1min 56s\n",
            "Wall time: 2min 11s\n"
          ]
        }
      ]
    },
    {
      "cell_type": "code",
      "source": [
        "evaluate_alg(X_train, X_test, y_train, y_test, trees_1, eta)"
      ],
      "metadata": {
        "colab": {
          "base_uri": "https://localhost:8080/"
        },
        "id": "eDmq-xwnt79M",
        "outputId": "8fb968d5-7007-45b3-a1c3-6b2464b84d25"
      },
      "execution_count": 147,
      "outputs": [
        {
          "output_type": "stream",
          "name": "stdout",
          "text": [
            "Ошибка алгоритма из 50 деревьев глубиной 5     с шагом 1 на тренировочной выборке: 0.0018199566554480773\n",
            "Ошибка алгоритма из 50 деревьев глубиной 5     с шагом 1 на тестовой выборке: 5827.966433745808\n"
          ]
        }
      ]
    },
    {
      "cell_type": "code",
      "source": [
        "# get_error_plot(n_trees, train_errors, test_errors)"
      ],
      "metadata": {
        "id": "2ZrkxUYcuFcZ"
      },
      "execution_count": null,
      "outputs": []
    },
    {
      "cell_type": "markdown",
      "source": [
        "Теперь попробуем уменьшить шаг."
      ],
      "metadata": {
        "id": "cd3JRAx9uLjk"
      }
    },
    {
      "cell_type": "code",
      "source": [
        "%%time\n",
        "n_trees = 50\n",
        "eta = 0.1\n",
        "\n",
        "trees_01, train_errors_01, test_errors_01 = gb_fit(n_trees, max_depth, X_train, X_test, y_train, y_test, eta)"
      ],
      "metadata": {
        "colab": {
          "base_uri": "https://localhost:8080/"
        },
        "id": "JOf1N9DxuMQq",
        "outputId": "7690b148-3767-407e-e91a-e2fa93571a86"
      },
      "execution_count": 148,
      "outputs": [
        {
          "output_type": "stream",
          "name": "stdout",
          "text": [
            "CPU times: user 1min 41s, sys: 1.06 s, total: 1min 42s\n",
            "Wall time: 1min 43s\n"
          ]
        }
      ]
    },
    {
      "cell_type": "code",
      "source": [
        "evaluate_alg(X_train, X_test, y_train, y_test, trees_01, eta)"
      ],
      "metadata": {
        "colab": {
          "base_uri": "https://localhost:8080/"
        },
        "id": "zr9S1RzauSgr",
        "outputId": "c6d7372f-fa1f-4283-a318-7d89ed2a599e"
      },
      "execution_count": 149,
      "outputs": [
        {
          "output_type": "stream",
          "name": "stdout",
          "text": [
            "Ошибка алгоритма из 50 деревьев глубиной 5     с шагом 0.1 на тренировочной выборке: 292.87778620802044\n",
            "Ошибка алгоритма из 50 деревьев глубиной 5     с шагом 0.1 на тестовой выборке: 3293.5437646978794\n"
          ]
        }
      ]
    },
    {
      "cell_type": "code",
      "source": [
        "# get_error_plot(n_trees, train_errors, test_errors)"
      ],
      "metadata": {
        "id": "SbJPCWJsuYaR"
      },
      "execution_count": null,
      "outputs": []
    },
    {
      "cell_type": "code",
      "source": [
        "%%time\n",
        "n_trees = 50\n",
        "eta = 0.01\n",
        "\n",
        "trees_001, train_errors_001, test_errors_001 = gb_fit(n_trees, max_depth, X_train, X_test, y_train, y_test, eta)"
      ],
      "metadata": {
        "colab": {
          "base_uri": "https://localhost:8080/"
        },
        "id": "-PPcrA_Euu9v",
        "outputId": "566c484a-3eed-42eb-ef27-1a6ba1a800d4"
      },
      "execution_count": 150,
      "outputs": [
        {
          "output_type": "stream",
          "name": "stdout",
          "text": [
            "CPU times: user 1min 50s, sys: 1.18 s, total: 1min 51s\n",
            "Wall time: 2min 2s\n"
          ]
        }
      ]
    },
    {
      "cell_type": "code",
      "source": [
        "evaluate_alg(X_train, X_test, y_train, y_test, trees_001, eta)"
      ],
      "metadata": {
        "colab": {
          "base_uri": "https://localhost:8080/"
        },
        "id": "LBydODSCuzP6",
        "outputId": "861f2afb-3fa6-4b26-ff52-420b9f5dc3d9"
      },
      "execution_count": 151,
      "outputs": [
        {
          "output_type": "stream",
          "name": "stdout",
          "text": [
            "Ошибка алгоритма из 50 деревьев глубиной 5     с шагом 0.01 на тренировочной выборке: 11931.331587373485\n",
            "Ошибка алгоритма из 50 деревьев глубиной 5     с шагом 0.01 на тестовой выборке: 11173.18075240145\n"
          ]
        }
      ]
    },
    {
      "cell_type": "code",
      "source": [
        "def get_error_plot(n_trees, train_errors_1, test_errors_1, train_errors_01, test_errors_01, train_errors_001, test_errors_001):\n",
        "  plt.figure(figsize=(10, 10))\n",
        "  plt.xlabel('Число деревьев')\n",
        "  plt.ylabel('MSE')\n",
        "  # plt.xlim(0, n_trees)\n",
        "  plt.plot(list(range(n_trees)), train_errors_1, label='train eta=1')\n",
        "  plt.plot(list(range(n_trees)), test_errors_1, label='test eta=1')\n",
        "  plt.plot(list(range(n_trees)), train_errors_01, label='train eta=0.1')\n",
        "  plt.plot(list(range(n_trees)), test_errors_01, label='test eta=0.1')\n",
        "  plt.plot(list(range(n_trees)), train_errors_001, label='train eta=0.01')\n",
        "  plt.plot(list(range(n_trees)), test_errors_001, label='test eta=0.01')\n",
        "  plt.legend(loc='upper right')\n",
        "  plt.show()"
      ],
      "metadata": {
        "id": "yK2U_gSoSvlS"
      },
      "execution_count": 216,
      "outputs": []
    },
    {
      "cell_type": "code",
      "source": [
        "get_error_plot(n_trees, train_errors_1, test_errors_1, train_errors_01, test_errors_01, train_errors_001, test_errors_001)"
      ],
      "metadata": {
        "colab": {
          "base_uri": "https://localhost:8080/",
          "height": 606
        },
        "id": "RV1-RG3hu2b8",
        "outputId": "262caf6c-d229-4611-9acf-4d14e76c386f"
      },
      "execution_count": 217,
      "outputs": [
        {
          "output_type": "display_data",
          "data": {
            "text/plain": [
              "<Figure size 720x720 with 1 Axes>"
            ],
            "image/png": "[encoded data removed]"
          },
          "metadata": {
            "needs_background": "light"
          }
        }
      ]
    },
    {
      "cell_type": "code",
      "source": [
        "%%time\n",
        "eta = 0.1\n",
        "max_depth = 1\n",
        "\n",
        "trees_1, train_errors_1, test_errors_1 = gb_fit(n_trees, max_depth, X_train, X_test, y_train, y_test, eta)"
      ],
      "metadata": {
        "colab": {
          "base_uri": "https://localhost:8080/"
        },
        "id": "Fmw4OGCZu_DH",
        "outputId": "c4a30f0f-7ce4-4f1b-9ea5-d640bf7f8527"
      },
      "execution_count": 218,
      "outputs": [
        {
          "output_type": "stream",
          "name": "stdout",
          "text": [
            "CPU times: user 2min 2s, sys: 1.2 s, total: 2min 3s\n",
            "Wall time: 2min 24s\n"
          ]
        }
      ]
    },
    {
      "cell_type": "code",
      "source": [
        "evaluate_alg(X_train, X_test, y_train, y_test, trees_1, eta)"
      ],
      "metadata": {
        "colab": {
          "base_uri": "https://localhost:8080/"
        },
        "id": "wSVdWSzIvDwq",
        "outputId": "05c28061-1929-4cae-82e5-0260d4c9a126"
      },
      "execution_count": 219,
      "outputs": [
        {
          "output_type": "stream",
          "name": "stdout",
          "text": [
            "Ошибка алгоритма из 50 деревьев глубиной 1     с шагом 0.1 на тренировочной выборке: 2735.215645649808\n",
            "Ошибка алгоритма из 50 деревьев глубиной 1     с шагом 0.1 на тестовой выборке: 2953.479372977196\n"
          ]
        }
      ]
    },
    {
      "cell_type": "code",
      "source": [
        "%%time\n",
        "eta = 0.1\n",
        "max_depth = 2\n",
        "\n",
        "trees_2, train_errors_2, test_errors_2 = gb_fit(n_trees, max_depth, X_train, X_test, y_train, y_test, eta)"
      ],
      "metadata": {
        "colab": {
          "base_uri": "https://localhost:8080/"
        },
        "id": "mZH5Ybc_aBWK",
        "outputId": "b578f3c7-f98a-48f4-db87-34ba69c36d57"
      },
      "execution_count": 220,
      "outputs": [
        {
          "output_type": "stream",
          "name": "stdout",
          "text": [
            "CPU times: user 1min 51s, sys: 1.2 s, total: 1min 52s\n",
            "Wall time: 2min 4s\n"
          ]
        }
      ]
    },
    {
      "cell_type": "code",
      "source": [
        "evaluate_alg(X_train, X_test, y_train, y_test, trees_2, eta)"
      ],
      "metadata": {
        "colab": {
          "base_uri": "https://localhost:8080/"
        },
        "id": "j7rnrYTuaUo8",
        "outputId": "689f66a0-f064-485a-99ce-97dcd88405ce"
      },
      "execution_count": 221,
      "outputs": [
        {
          "output_type": "stream",
          "name": "stdout",
          "text": [
            "Ошибка алгоритма из 50 деревьев глубиной 2     с шагом 0.1 на тренировочной выборке: 2045.0612268196858\n",
            "Ошибка алгоритма из 50 деревьев глубиной 2     с шагом 0.1 на тестовой выборке: 2938.9497375695937\n"
          ]
        }
      ]
    },
    {
      "cell_type": "code",
      "source": [
        "%%time\n",
        "eta = 0.1\n",
        "max_depth = 3\n",
        "\n",
        "trees_3, train_errors_3, test_errors_3 = gb_fit(n_trees, max_depth, X_train, X_test, y_train, y_test, eta)"
      ],
      "metadata": {
        "colab": {
          "base_uri": "https://localhost:8080/"
        },
        "id": "NNjJ-ARjaCac",
        "outputId": "c741f595-3bd5-47a2-d3f4-8bd4338ba573"
      },
      "execution_count": 222,
      "outputs": [
        {
          "output_type": "stream",
          "name": "stdout",
          "text": [
            "CPU times: user 1min 47s, sys: 1.39 s, total: 1min 49s\n",
            "Wall time: 1min 49s\n"
          ]
        }
      ]
    },
    {
      "cell_type": "code",
      "source": [
        "evaluate_alg(X_train, X_test, y_train, y_test, trees_3, eta)"
      ],
      "metadata": {
        "colab": {
          "base_uri": "https://localhost:8080/"
        },
        "id": "cxIuI7O-aVe4",
        "outputId": "3f6ba3c1-f4a8-4c06-d0d4-8c2468048f5c"
      },
      "execution_count": 223,
      "outputs": [
        {
          "output_type": "stream",
          "name": "stdout",
          "text": [
            "Ошибка алгоритма из 50 деревьев глубиной 3     с шагом 0.1 на тренировочной выборке: 1472.814863952287\n",
            "Ошибка алгоритма из 50 деревьев глубиной 3     с шагом 0.1 на тестовой выборке: 3100.7322817049985\n"
          ]
        }
      ]
    },
    {
      "cell_type": "code",
      "source": [
        "%%time\n",
        "eta = 0.1\n",
        "max_depth = 4\n",
        "\n",
        "trees_4, train_errors_4, test_errors_4 = gb_fit(n_trees, max_depth, X_train, X_test, y_train, y_test, eta)"
      ],
      "metadata": {
        "colab": {
          "base_uri": "https://localhost:8080/"
        },
        "id": "hrGDkzfEaDcH",
        "outputId": "f5825dd3-ef04-4881-eac2-5d1527299949"
      },
      "execution_count": 224,
      "outputs": [
        {
          "output_type": "stream",
          "name": "stdout",
          "text": [
            "CPU times: user 1min 42s, sys: 1.19 s, total: 1min 43s\n",
            "Wall time: 1min 42s\n"
          ]
        }
      ]
    },
    {
      "cell_type": "code",
      "source": [
        "evaluate_alg(X_train, X_test, y_train, y_test, trees_4, eta)"
      ],
      "metadata": {
        "colab": {
          "base_uri": "https://localhost:8080/"
        },
        "id": "x9dwtYpiaWNw",
        "outputId": "e1da0916-8cd6-412a-d059-ff3c580e740e"
      },
      "execution_count": 225,
      "outputs": [
        {
          "output_type": "stream",
          "name": "stdout",
          "text": [
            "Ошибка алгоритма из 50 деревьев глубиной 4     с шагом 0.1 на тренировочной выборке: 810.7749871090354\n",
            "Ошибка алгоритма из 50 деревьев глубиной 4     с шагом 0.1 на тестовой выборке: 3269.6218042303085\n"
          ]
        }
      ]
    },
    {
      "cell_type": "code",
      "source": [
        "%%time\n",
        "eta = 0.1\n",
        "max_depth = 5\n",
        "\n",
        "trees_5, train_errors_5, test_errors_5 = gb_fit(n_trees, max_depth, X_train, X_test, y_train, y_test, eta)"
      ],
      "metadata": {
        "colab": {
          "base_uri": "https://localhost:8080/"
        },
        "id": "5f5qIKVHaELB",
        "outputId": "afc6ef9e-ac4e-4283-df9e-af304480c709"
      },
      "execution_count": 227,
      "outputs": [
        {
          "output_type": "stream",
          "name": "stdout",
          "text": [
            "CPU times: user 1min 43s, sys: 1.12 s, total: 1min 44s\n",
            "Wall time: 1min 43s\n"
          ]
        }
      ]
    },
    {
      "cell_type": "code",
      "source": [
        "evaluate_alg(X_train, X_test, y_train, y_test, trees_5, eta)"
      ],
      "metadata": {
        "colab": {
          "base_uri": "https://localhost:8080/"
        },
        "id": "oIvqfZOXaWvp",
        "outputId": "80186070-3272-4405-9cf9-3c36066e2218"
      },
      "execution_count": 228,
      "outputs": [
        {
          "output_type": "stream",
          "name": "stdout",
          "text": [
            "Ошибка алгоритма из 50 деревьев глубиной 5     с шагом 0.1 на тренировочной выборке: 292.87778620802044\n",
            "Ошибка алгоритма из 50 деревьев глубиной 5     с шагом 0.1 на тестовой выборке: 3293.5437646978794\n"
          ]
        }
      ]
    },
    {
      "cell_type": "code",
      "source": [
        "def get_error_plot(n_trees, train_errors_1, test_errors_1, \n",
        "                   train_errors_2, test_errors_2, \n",
        "                   train_errors_3, test_errors_3,\n",
        "                   train_errors_4, test_errors_4,\n",
        "                   train_errors_5, test_errors_5\n",
        "                   ):\n",
        "  plt.figure(figsize=(10, 10))\n",
        "  plt.xlabel('Число деревьев')\n",
        "  plt.ylabel('MSE')\n",
        "  plt.xlim(0, n_trees)\n",
        "  plt.plot(list(range(n_trees)), train_errors_1, label='train depth=1')\n",
        "  plt.plot(list(range(n_trees)), test_errors_1, label='test depth=1')\n",
        "  plt.plot(list(range(n_trees)), train_errors_2, label='train depth=2')\n",
        "  plt.plot(list(range(n_trees)), test_errors_2, label='test depth=2')\n",
        "  plt.plot(list(range(n_trees)), train_errors_3, label='train depth=3')\n",
        "  plt.plot(list(range(n_trees)), test_errors_3, label='test depth=3')\n",
        "  plt.plot(list(range(n_trees)), train_errors_4, label='train depth=4')\n",
        "  plt.plot(list(range(n_trees)), test_errors_4, label='test depth=4')\n",
        "  plt.plot(list(range(n_trees)), train_errors_5, label='train depth=5')\n",
        "  plt.plot(list(range(n_trees)), test_errors_5, label='test depth=5')\n",
        "  plt.legend(loc='upper right')\n",
        "  plt.show()"
      ],
      "metadata": {
        "id": "AdK2tkQ4asIF"
      },
      "execution_count": 239,
      "outputs": []
    },
    {
      "cell_type": "code",
      "source": [
        "get_error_plot(n_trees, train_errors_1, test_errors_1, \n",
        "                   train_errors_2, test_errors_2, \n",
        "                   train_errors_3, test_errors_3,\n",
        "                   train_errors_4, test_errors_4,\n",
        "                   train_errors_5, test_errors_5)"
      ],
      "metadata": {
        "colab": {
          "base_uri": "https://localhost:8080/",
          "height": 606
        },
        "id": "thSL23cmvFeG",
        "outputId": "65d1b238-0e7f-4a8e-f0f7-c693ccd0717c"
      },
      "execution_count": 240,
      "outputs": [
        {
          "output_type": "display_data",
          "data": {
            "text/plain": [
              "<Figure size 720x720 with 1 Axes>"
            ],
            "image/png": "[encoded data removed]"
          },
          "metadata": {
            "needs_background": "light"
          }
        }
      ]
    },
    {
      "cell_type": "markdown",
      "source": [
        "Ошибка на обучающей выборке упала, а на тестовой несколько поднялась, то есть в данном случае можем говорить о появлении переобучения."
      ],
      "metadata": {
        "id": "BGSMNTJpvQSx"
      }
    },
    {
      "cell_type": "markdown",
      "source": [
        "В целом, тут мы показали, что варьируя параметры обучения градиентного бустинга можно добиваться различного уровня точности модели."
      ],
      "metadata": {
        "id": "MsMl6m-rvRPO"
      }
    }
  ]
}