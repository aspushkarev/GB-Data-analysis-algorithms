{
  "nbformat": 4,
  "nbformat_minor": 0,
  "metadata": {
    "colab": {
      "provenance": []
    },
    "kernelspec": {
      "name": "python3",
      "display_name": "Python 3"
    },
    "language_info": {
      "name": "python"
    }
  },
  "cells": [
    {
      "cell_type": "markdown",
      "source": [
        "**Домашнее задание**\n",
        "\n",
        "Реализуйте один или несколько критериев останова: минимальное количество объектов в листе (min_leaf), максимальная глубина дерева, максимальное количество листьев и т.д. Добавьте эти критерии в параметры функции build_tree и проверьте ее работоспособность с помощью визуализации дерева (функция print_tree)."
      ],
      "metadata": {
        "id": "O5bHLpTx62Vt"
      }
    },
    {
      "cell_type": "code",
      "source": [
        "import numpy as np\n",
        "import pandas as pd\n",
        "import matplotlib.pyplot as plt\n",
        "\n",
        "from matplotlib.colors import ListedColormap\n",
        "from sklearn.datasets import make_classification, make_circles\n",
        "from sklearn.model_selection import train_test_split\n",
        "\n",
        "import warnings\n",
        "warnings.filterwarnings('ignore')"
      ],
      "metadata": {
        "id": "CE-EhBKK8siS"
      },
      "execution_count": 142,
      "outputs": []
    },
    {
      "cell_type": "code",
      "execution_count": 143,
      "metadata": {
        "id": "VWZwwNtB57I0"
      },
      "outputs": [],
      "source": [
        "# Сгенерируем данные\n",
        "classification_data, classification_labels = make_classification(n_features=2, n_informative=2, \n",
        "                                                                 n_classes=2, n_redundant=0,\n",
        "                                                                 n_clusters_per_class=1, random_state=142)\n",
        "# classification_data, classification_labels = make_circles(n_samples=30, random_state=5)"
      ]
    },
    {
      "cell_type": "code",
      "source": [
        "# Визуализируем сгенерированные данные\n",
        "colors = ListedColormap(['red', 'blue'])\n",
        "light_colors = ListedColormap(['lightcoral', 'lightblue'])\n",
        "\n",
        "plt.figure(figsize=(8,8))\n",
        "plt.scatter(list(map(lambda x: x[0], classification_data)), list(map(lambda x: x[1], classification_data)), \n",
        "              c=classification_labels, cmap=colors);"
      ],
      "metadata": {
        "colab": {
          "base_uri": "https://localhost:8080/",
          "height": 483
        },
        "id": "Thi891Vg8lGs",
        "outputId": "3110d76a-c0f8-4cb4-8189-f2d056e1631e"
      },
      "execution_count": 144,
      "outputs": [
        {
          "output_type": "display_data",
          "data": {
            "text/plain": [
              "<Figure size 576x576 with 1 Axes>"
            ],
            "image/png": "[encoded data removed]"
          },
          "metadata": {
            "needs_background": "light"
          }
        }
      ]
    },
    {
      "cell_type": "markdown",
      "source": [
        "Критерии останова - это критерии, которые показывают, нужно ли остановить процесс построения дерева. Правильный выбор критериев останова роста дерева может существенно повлиять на его качество. Существует большое количество возможных ограничений:\n",
        "\n",
        "Ограничение максимальной глубины дерева.\n",
        "\n",
        "Ограничение максимального количества листьев.\n",
        "\n",
        "Ограничение минимального количества  𝑛  объектов в листе.\n",
        "\n",
        "Останов в случае, когда все объекты в листе относятся к одному классу.\n",
        "\n",
        "Подбор оптимальных критериев - сложная задача, которая обычно решается методом кросс-валидации."
      ],
      "metadata": {
        "id": "9XoGbL4J9c3V"
      }
    },
    {
      "cell_type": "code",
      "source": [
        "# Реализуем класс узла\n",
        "class Node:\n",
        "    \n",
        "    def __init__(self, index, t, true_branch, false_branch):\n",
        "        self.index = index  # Индекс признака, по которому ведётся сравнение с порогом в этом узле\n",
        "        self.t = t  # Значение порога\n",
        "        self.true_branch = true_branch  # Поддерево, удовлетворяющее условию в узле\n",
        "        self.false_branch = false_branch  # Поддерево, не удовлетворяющее условию в узле"
      ],
      "metadata": {
        "id": "UL1WOWHX9eB5"
      },
      "execution_count": 145,
      "outputs": []
    },
    {
      "cell_type": "code",
      "source": [
        "# Реализуем класс листа\n",
        "class Leaf:\n",
        "    \n",
        "    def __init__(self, data, labels):\n",
        "        self.data = data\n",
        "        self.labels = labels\n",
        "        self.prediction = self.predict()\n",
        "        \n",
        "    def predict(self):\n",
        "        # Подсчёт количества объектов разных классов\n",
        "        classes = {}\n",
        "        for label in self.labels:\n",
        "            if label not in classes:\n",
        "                classes[label] = 0\n",
        "            classes[label] += 1\n",
        "            \n",
        "        # Найдём класс, количество объектов которого будет максимальным в этом листе и вернём его    \n",
        "        prediction = max(classes, key=classes.get)\n",
        "        return prediction  "
      ],
      "metadata": {
        "id": "RUbUXDam9wxs"
      },
      "execution_count": 146,
      "outputs": []
    },
    {
      "cell_type": "code",
      "source": [
        "# Расчёт критерия Джини\n",
        "def gini(labels):\n",
        "    # Подсчёт количества объектов разных классов\n",
        "    classes = {}\n",
        "    for label in labels:\n",
        "        if label not in classes:\n",
        "            classes[label] = 0\n",
        "        classes[label] += 1\n",
        "    \n",
        "    # Расчёт критерия\n",
        "    impurity = 1\n",
        "    for label in classes:\n",
        "        p = classes[label] / len(labels)\n",
        "        impurity -= p ** 2\n",
        "        \n",
        "    return impurity"
      ],
      "metadata": {
        "id": "-UVA70Tl-IsO"
      },
      "execution_count": 147,
      "outputs": []
    },
    {
      "cell_type": "code",
      "source": [
        "# Расчёт прироста\n",
        "def gain(left_labels, right_labels, root_gini):\n",
        "\n",
        "    # Доля выборки, ушедшая в левое поддерево\n",
        "    p = float(left_labels.shape[0]) / (left_labels.shape[0] + right_labels.shape[0])\n",
        "    \n",
        "    return root_gini - p * gini(left_labels) - (1 - p) * gini(right_labels)"
      ],
      "metadata": {
        "id": "AOJg8Ka9DPq5"
      },
      "execution_count": 148,
      "outputs": []
    },
    {
      "cell_type": "code",
      "source": [
        "# Разбиение датасета в узле\n",
        "def split(data, labels, column_index, t):\n",
        "    \n",
        "    left = np.where(data[:, column_index] <= t)\n",
        "    right = np.where(data[:, column_index] > t)\n",
        "        \n",
        "    true_data = data[left]\n",
        "    false_data = data[right]\n",
        "    \n",
        "    true_labels = labels[left]\n",
        "    false_labels = labels[right]\n",
        "        \n",
        "    return true_data, false_data, true_labels, false_labels"
      ],
      "metadata": {
        "id": "aQVaZuTNFXN0"
      },
      "execution_count": 149,
      "outputs": []
    },
    {
      "cell_type": "code",
      "source": [
        "# Нахождение наилучшего разбиения\n",
        "def find_best_split(data, labels, min_samples_leaf):\n",
        "    \n",
        "    # Обозначим минимальное количество объектов в узле\n",
        "    # min_samples_leaf = 3\n",
        "\n",
        "    root_gini = gini(labels)\n",
        "\n",
        "    best_gain = 0\n",
        "    best_t = None\n",
        "    best_index = None\n",
        "    \n",
        "    n_features = data.shape[1]\n",
        "    \n",
        "    for index in range(n_features):\n",
        "        # Будем проверять только уникальные значения признака, исключая повторения\n",
        "        t_values = np.unique(data[:, index])\n",
        "        \n",
        "        for t in t_values:\n",
        "            true_data, false_data, true_labels, false_labels = split(data, labels, index, t)\n",
        "            # Пропускаем разбиения, в которых в узле остаётся менее min_samples_leaf объектов\n",
        "            if len(true_data) < min_samples_leaf or len(false_data) < min_samples_leaf:\n",
        "                continue\n",
        "            \n",
        "            current_gain = gain(true_labels, false_labels, root_gini)\n",
        "            \n",
        "            # Выбираем порог, на котором получается максимальный прирост качества\n",
        "            if current_gain > best_gain:\n",
        "                best_gain, best_t, best_index = current_gain, t, index\n",
        "\n",
        "    return best_gain, best_t, best_index"
      ],
      "metadata": {
        "id": "MtNk5NwHFaRR"
      },
      "execution_count": 150,
      "outputs": []
    },
    {
      "cell_type": "code",
      "source": [
        "# Построение дерева с помощью рекурсивной функции\n",
        "def build_tree(data, labels, min_samples_leaf, max_depth, depth=0):   # добавил min_samples_leaf\n",
        "\n",
        "    gain, t, index = find_best_split(data, labels, min_samples_leaf)\n",
        "\n",
        "    # Базовый случай - прекращаем рекурсию, когда нет прироста в качества\n",
        "    if gain == 0:\n",
        "      return Leaf(data, labels)\n",
        "\n",
        "    # Останов по глубине дерева\n",
        "    if max_depth <= depth:\n",
        "      return Leaf(data, labels)\n",
        "\n",
        "    true_data, false_data, true_labels, false_labels = split(data, labels, index, t)\n",
        "\n",
        "    # Рекурсивно строим два поддерева\n",
        "    true_branch = build_tree(true_data, true_labels, min_samples_leaf, max_depth, depth + 1)\n",
        "\n",
        "    # print(time.time(), true_branch)\n",
        "    false_branch = build_tree(false_data, false_labels, min_samples_leaf, max_depth, depth + 1)\n",
        "    \n",
        "    # print(time.time(), false_branch)\n",
        "    \n",
        "    # Возвращаем класс узла со всеми поддеревьями, то есть класс целого дерева\n",
        "    return Node(index, t, true_branch, false_branch)"
      ],
      "metadata": {
        "id": "5baremJqFg28"
      },
      "execution_count": 151,
      "outputs": []
    },
    {
      "cell_type": "code",
      "source": [
        "def classify_object(obj, node):\n",
        "\n",
        "    #  Останавливаем рекурсию, если достигли листа\n",
        "    if isinstance(node, Leaf):\n",
        "        answer = node.prediction\n",
        "        return answer\n",
        "\n",
        "    if obj[node.index] <= node.t:\n",
        "        return classify_object(obj, node.true_branch)\n",
        "    else:\n",
        "        return classify_object(obj, node.false_branch)"
      ],
      "metadata": {
        "id": "2qRDkEWkFq_k"
      },
      "execution_count": 152,
      "outputs": []
    },
    {
      "cell_type": "code",
      "source": [
        "def predict(data, tree):\n",
        "    \n",
        "    classes = []\n",
        "    for obj in data:\n",
        "        prediction = classify_object(obj, tree)\n",
        "        classes.append(prediction)\n",
        "    return classes"
      ],
      "metadata": {
        "id": "dn3wP5wRFx7p"
      },
      "execution_count": 153,
      "outputs": []
    },
    {
      "cell_type": "code",
      "source": [
        "# Разобьём выборку на обучающую и тестовую\n",
        "train_data, test_data, train_labels, test_labels = train_test_split(classification_data, \n",
        "                                                                    classification_labels, \n",
        "                                                                    test_size=0.3,\n",
        "                                                                    random_state=1)"
      ],
      "metadata": {
        "id": "PIMdo5ZIFzZd"
      },
      "execution_count": 154,
      "outputs": []
    },
    {
      "cell_type": "code",
      "source": [
        "# Построим дерево по обучающей выборке\n",
        "my_tree = build_tree(train_data, train_labels, min_samples_leaf=5, max_depth=3) # добавил аргумент min_samples_leaf (минимальное количество объектов в листе)"
      ],
      "metadata": {
        "id": "vlv6DuN1F8h-"
      },
      "execution_count": 155,
      "outputs": []
    },
    {
      "cell_type": "code",
      "source": [
        "# Напечатаем ход дерева\n",
        "def print_tree(node, spacing=\"\"):\n",
        "\n",
        "    # Если лист, то выводим его прогноз\n",
        "    if isinstance(node, Leaf):\n",
        "        print(spacing + \"Прогноз:\", node.prediction)\n",
        "        return\n",
        "\n",
        "    # Выведем значение индекса и порога на этом узле\n",
        "    print(spacing + 'Индекс', str(node.index), '<=', str(node.t))\n",
        "\n",
        "    # Рекурсивный вызов функции на положительном поддереве\n",
        "    print(spacing + '--> True:')\n",
        "    print_tree(node.true_branch, spacing + \"  \")\n",
        "\n",
        "    # Рекурсивный вызов функции на отрицательном поддереве\n",
        "    print(spacing + '--> False:')\n",
        "    print_tree(node.false_branch, spacing + \"  \")\n",
        "    \n",
        "print_tree(my_tree)"
      ],
      "metadata": {
        "colab": {
          "base_uri": "https://localhost:8080/"
        },
        "id": "rJfE9Ov0GM30",
        "outputId": "34aad4d3-f316-4fa3-d096-b6f6f13e49af"
      },
      "execution_count": 156,
      "outputs": [
        {
          "output_type": "stream",
          "name": "stdout",
          "text": [
            "Индекс 1 <= 0.10637080118918174\n",
            "--> True:\n",
            "  Индекс 1 <= -0.6023570601621359\n",
            "  --> True:\n",
            "    Индекс 0 <= -1.326867561665578\n",
            "    --> True:\n",
            "      Прогноз: 0\n",
            "    --> False:\n",
            "      Прогноз: 0\n",
            "  --> False:\n",
            "    Индекс 0 <= -1.4751871310035263\n",
            "    --> True:\n",
            "      Прогноз: 0\n",
            "    --> False:\n",
            "      Прогноз: 1\n",
            "--> False:\n",
            "  Индекс 0 <= -1.423723265960491\n",
            "  --> True:\n",
            "    Прогноз: 1\n",
            "  --> False:\n",
            "    Прогноз: 1\n"
          ]
        }
      ]
    },
    {
      "cell_type": "code",
      "source": [
        "# Получим ответы для обучающей выборки \n",
        "train_answers = predict(train_data, my_tree)"
      ],
      "metadata": {
        "id": "15ImzFlNGSpE"
      },
      "execution_count": 157,
      "outputs": []
    },
    {
      "cell_type": "code",
      "source": [
        "# Получим ответы для тестовой выборки\n",
        "answers = predict(test_data, my_tree)"
      ],
      "metadata": {
        "id": "do6bw_E7GX9a"
      },
      "execution_count": 158,
      "outputs": []
    },
    {
      "cell_type": "code",
      "source": [
        "# Введём функцию подсчёта точности как доли правильных ответов\n",
        "def accuracy_metric(actual, predicted):\n",
        "    correct = 0\n",
        "    for i in range(len(actual)):\n",
        "        if actual[i] == predicted[i]:\n",
        "            correct += 1\n",
        "    return correct / float(len(actual)) * 100.0"
      ],
      "metadata": {
        "id": "AYs_QxfzGb69"
      },
      "execution_count": 159,
      "outputs": []
    },
    {
      "cell_type": "code",
      "source": [
        "# Точность на обучающей выборке\n",
        "train_accuracy = accuracy_metric(train_labels, train_answers)\n",
        "train_accuracy"
      ],
      "metadata": {
        "colab": {
          "base_uri": "https://localhost:8080/"
        },
        "id": "y2Dbdu04Gg4s",
        "outputId": "60a11a4b-b1d1-4146-f628-4d925257df43"
      },
      "execution_count": 160,
      "outputs": [
        {
          "output_type": "execute_result",
          "data": {
            "text/plain": [
              "95.71428571428572"
            ]
          },
          "metadata": {},
          "execution_count": 160
        }
      ]
    },
    {
      "cell_type": "code",
      "source": [
        "# Точность на тестовой выборке\n",
        "test_accuracy = accuracy_metric(test_labels, answers)\n",
        "test_accuracy"
      ],
      "metadata": {
        "colab": {
          "base_uri": "https://localhost:8080/"
        },
        "id": "x4aqnGSjGm05",
        "outputId": "b569c921-396b-41dd-8a5e-8d876d7654d1"
      },
      "execution_count": 161,
      "outputs": [
        {
          "output_type": "execute_result",
          "data": {
            "text/plain": [
              "93.33333333333333"
            ]
          },
          "metadata": {},
          "execution_count": 161
        }
      ]
    },
    {
      "cell_type": "code",
      "source": [
        "# Визуализируем дерево на графике\n",
        "def get_meshgrid(data, step=.05, border=1.2):\n",
        "    x_min, x_max = data[:, 0].min() - border, data[:, 0].max() + border\n",
        "    y_min, y_max = data[:, 1].min() - border, data[:, 1].max() + border\n",
        "    return np.meshgrid(np.arange(x_min, x_max, step), np.arange(y_min, y_max, step))\n",
        "\n",
        "\n",
        "def visualize(train_data, test_data):\n",
        "    plt.figure(figsize = (16, 7))\n",
        "\n",
        "    # График обучающей выборки\n",
        "    plt.subplot(1,2,1)\n",
        "    xx, yy = get_meshgrid(train_data)\n",
        "    mesh_predictions = np.array(predict(np.c_[xx.ravel(), yy.ravel()], my_tree)).reshape(xx.shape)\n",
        "    plt.pcolormesh(xx, yy, mesh_predictions, cmap = light_colors)\n",
        "    plt.scatter(train_data[:, 0], train_data[:, 1], c = train_labels, cmap = colors)\n",
        "    plt.title(f'Train accuracy={train_accuracy:.2f}')\n",
        "\n",
        "    # График тестовой выборки\n",
        "    plt.subplot(1,2,2)\n",
        "    plt.pcolormesh(xx, yy, mesh_predictions, cmap = light_colors)\n",
        "    plt.scatter(test_data[:, 0], test_data[:, 1], c = test_labels, cmap = colors)\n",
        "    plt.title(f'Test accuracy={test_accuracy:.2f}')"
      ],
      "metadata": {
        "id": "xUoDUHE7GrTE"
      },
      "execution_count": 162,
      "outputs": []
    },
    {
      "cell_type": "code",
      "source": [
        "visualize(train_data, test_data)"
      ],
      "metadata": {
        "colab": {
          "base_uri": "https://localhost:8080/",
          "height": 444
        },
        "id": "QLUpbkxEGx_N",
        "outputId": "f1b484f3-97f0-43a8-af43-f90046f8d4e0"
      },
      "execution_count": 163,
      "outputs": [
        {
          "output_type": "display_data",
          "data": {
            "text/plain": [
              "<Figure size 1152x504 with 2 Axes>"
            ],
            "image/png": "[encoded data removed]"
          },
          "metadata": {
            "needs_background": "light"
          }
        }
      ]
    }
  ]
}