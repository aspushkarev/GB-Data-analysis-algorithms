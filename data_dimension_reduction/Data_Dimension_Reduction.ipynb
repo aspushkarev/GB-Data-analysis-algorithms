{
  "nbformat": 4,
  "nbformat_minor": 0,
  "metadata": {
    "colab": {
      "provenance": []
    },
    "kernelspec": {
      "name": "python3",
      "display_name": "Python 3"
    },
    "language_info": {
      "name": "python"
    }
  },
  "cells": [
    {
      "cell_type": "markdown",
      "source": [
        "1. Можно ли отобрать наиболее значимые признаки из имеющихся с помощью PCA? Ответ объясните\n",
        "\n",
        "Ответ - нет.\n",
        "\n",
        "PCA - это способ уменьшить размерность данных, потеряв наименьшее количество информации. \n",
        "\n",
        "Снижать размерность данных можно за счёт отбора признаков (корреляция, взаимная информация, переборные методы)"
      ],
      "metadata": {
        "id": "AfZyBGN3PVsI"
      }
    },
    {
      "cell_type": "markdown",
      "source": [
        "2. Написать свою реализацию метода главных компонент с помощью сингулярного разложения с использованием функции numpy.linalg.svd(). Применить к данным на уроке и сравнить ответы."
      ],
      "metadata": {
        "id": "G1oxglHuK__n"
      }
    },
    {
      "cell_type": "markdown",
      "source": [
        "3. Обучить любую модель классификации (из рассмотренных в курсе) на датасете IRIS до применения PCA и после него. Сравнить качество классификации по отложенной выборке."
      ],
      "metadata": {
        "id": "PznpflB1kEiu"
      }
    },
    {
      "cell_type": "markdown",
      "source": [
        "Начну работу с 3 задачи"
      ],
      "metadata": {
        "id": "CCQql3zm31Yx"
      }
    },
    {
      "cell_type": "code",
      "execution_count": 141,
      "metadata": {
        "id": "VpNvvW3OPJi1"
      },
      "outputs": [],
      "source": [
        "import numpy as np\n",
        "import pandas as pd\n",
        "import matplotlib.pyplot as plt\n",
        "from sklearn.datasets import load_iris\n",
        "from sklearn.model_selection import train_test_split"
      ]
    },
    {
      "cell_type": "code",
      "source": [
        "def get_metrics(x1, x2):\n",
        "  \"\"\"\n",
        "  Функция вычисляет евклидово расстояние\n",
        "  \"\"\"\n",
        "  dots = np.linspace(0, 10, 100)\n",
        "  q = 0.5\n",
        "  value = list(map(lambda d: q ** d, dots))\n",
        "  \n",
        "  return np.sqrt(np.sum(np.square(x1 - x2)))"
      ],
      "metadata": {
        "id": "RedvRnoak6YZ"
      },
      "execution_count": 142,
      "outputs": []
    },
    {
      "cell_type": "code",
      "source": [
        "def get_knn(X_train, y_train, X_test, k):\n",
        "  \"\"\"\n",
        "  Функция поиска k-ближайших соседей\n",
        "  \"\"\"\n",
        "  answers = []\n",
        "  for x in X_test:\n",
        "    test_distances = []\n",
        "        \n",
        "    for i in range(len(X_train)):\n",
        "        \n",
        "      # расчет расстояния от классифицируемого объекта до\n",
        "      # объекта обучающей выборки\n",
        "      distance = get_metrics(x, X_train[i])\n",
        "      \n",
        "      # Записываем в список значение расстояния и ответа на объекте обучающей выборки\n",
        "      test_distances.append((distance, y_train[i]))\n",
        "    \n",
        "    # создаем словарь со всеми возможными классами\n",
        "    classes = {class_item: 0 for class_item in set(y_train)}\n",
        "    \n",
        "    # Сортируем список и среди первых k-элементов подсчитаем частоту появления разных классов\n",
        "    numeric = 1\n",
        "    for d in sorted(test_distances)[0:k]:\n",
        "      classes[d[1]] += 1 / numeric\n",
        "      numeric += 1\n",
        "\n",
        "    # Записываем в список ответов наиболее часто встречающийся класс\n",
        "    answers.append(sorted(classes, key=classes.get)[-1])\n",
        "      \n",
        "  return answers"
      ],
      "metadata": {
        "id": "ZCDN8j1ylIjk"
      },
      "execution_count": 143,
      "outputs": []
    },
    {
      "cell_type": "code",
      "source": [
        "def get_accuracy(pred, y):\n",
        "  \"\"\"\n",
        "  Функция для вычисления точности\n",
        "  \"\"\"\n",
        "  return sum(pred == y) / len(y)"
      ],
      "metadata": {
        "id": "25h5SwT8lUd2"
      },
      "execution_count": 144,
      "outputs": []
    },
    {
      "cell_type": "code",
      "source": [
        "X, y = load_iris(return_X_y=True)"
      ],
      "metadata": {
        "id": "HUwhTjct0r-V"
      },
      "execution_count": 145,
      "outputs": []
    },
    {
      "cell_type": "code",
      "source": [
        "X.shape"
      ],
      "metadata": {
        "colab": {
          "base_uri": "https://localhost:8080/"
        },
        "id": "N8pBpu8B0-04",
        "outputId": "1c13a1c7-bc7e-4857-9802-3ed0668ca2a5"
      },
      "execution_count": 146,
      "outputs": [
        {
          "output_type": "execute_result",
          "data": {
            "text/plain": [
              "(150, 4)"
            ]
          },
          "metadata": {},
          "execution_count": 146
        }
      ]
    },
    {
      "cell_type": "code",
      "source": [
        "X_train, X_test, y_train, y_test = train_test_split(X, y,\n",
        "                                                    test_size=0.2,\n",
        "                                                    random_state=42,\n",
        "                                                    stratify=y)"
      ],
      "metadata": {
        "id": "LH1fvIo60zLE"
      },
      "execution_count": 147,
      "outputs": []
    },
    {
      "cell_type": "code",
      "source": [
        "k = 5\n",
        "\n",
        "y_pred_train = get_knn(X_train, y_train, X_train, k)\n",
        "y_pred = get_knn(X_train, y_train, X_test, k)\n",
        "\n",
        "print(f'Точность алгоритма на трейне при k = {k}: {get_accuracy(y_pred_train, y_train):.3f}')\n",
        "print(f'Точность алгоритма на тесте при k = {k}: {get_accuracy(y_pred, y_test):.3f}')"
      ],
      "metadata": {
        "colab": {
          "base_uri": "https://localhost:8080/"
        },
        "id": "wsCBsKhM02fb",
        "outputId": "8e66a5f3-bc90-4cb8-c32b-3024156c9052"
      },
      "execution_count": 148,
      "outputs": [
        {
          "output_type": "stream",
          "name": "stdout",
          "text": [
            "Точность алгоритма на трейне при k = 5: 0.983\n",
            "Точность алгоритма на тесте при k = 5: 0.967\n"
          ]
        }
      ]
    },
    {
      "cell_type": "code",
      "source": [
        "def standard_scale(x):\n",
        "  \"\"\" \n",
        "  Функция для стандартизации признаков\n",
        "  \"\"\"\n",
        "  return (x - x.mean(axis=0)) / x.std(axis=0)"
      ],
      "metadata": {
        "id": "4Oeu91ouygW0"
      },
      "execution_count": 149,
      "outputs": []
    },
    {
      "cell_type": "code",
      "source": [
        "X = X.astype(float)\n",
        "\n",
        "X = standard_scale(X)"
      ],
      "metadata": {
        "id": "LI1rb_HO3EjF"
      },
      "execution_count": 150,
      "outputs": []
    },
    {
      "cell_type": "code",
      "source": [
        "X[:10]"
      ],
      "metadata": {
        "colab": {
          "base_uri": "https://localhost:8080/"
        },
        "id": "pAI_Uewc3SHI",
        "outputId": "b51f6a75-f216-46f7-d037-a7d92c3b7b8e"
      },
      "execution_count": 151,
      "outputs": [
        {
          "output_type": "execute_result",
          "data": {
            "text/plain": [
              "array([[-0.90068117,  1.01900435, -1.34022653, -1.3154443 ],\n",
              "       [-1.14301691, -0.13197948, -1.34022653, -1.3154443 ],\n",
              "       [-1.38535265,  0.32841405, -1.39706395, -1.3154443 ],\n",
              "       [-1.50652052,  0.09821729, -1.2833891 , -1.3154443 ],\n",
              "       [-1.02184904,  1.24920112, -1.34022653, -1.3154443 ],\n",
              "       [-0.53717756,  1.93979142, -1.16971425, -1.05217993],\n",
              "       [-1.50652052,  0.78880759, -1.34022653, -1.18381211],\n",
              "       [-1.02184904,  0.78880759, -1.2833891 , -1.3154443 ],\n",
              "       [-1.74885626, -0.36217625, -1.34022653, -1.3154443 ],\n",
              "       [-1.14301691,  0.09821729, -1.2833891 , -1.44707648]])"
            ]
          },
          "metadata": {},
          "execution_count": 151
        }
      ]
    },
    {
      "cell_type": "code",
      "source": [
        "# Найдём собственные векторы и собственные значения\n",
        "covariance_matrix = X.T @ X\n",
        "eig_values, eig_vectors = np.linalg.eig(covariance_matrix)\n",
        "\n",
        "# Формируем список кортежей (собственное значение, собственный вектор)\n",
        "eig_pairs = [(np.abs(eig_values[i]), eig_vectors[:, i]) for i in range(len(eig_values))]\n",
        "\n",
        "# Сортируем список по убыванию собственных значений\n",
        "eig_pairs.sort(key=lambda x: x[0], reverse=True)\n",
        "\n",
        "print('Собственные значения и собственные векторы в порядке убывания:\\n')\n",
        "for eig_pair in eig_pairs:\n",
        "  print(eig_pair)"
      ],
      "metadata": {
        "colab": {
          "base_uri": "https://localhost:8080/"
        },
        "id": "SH0b4ZAK3X-5",
        "outputId": "51f5f2db-a6a8-4bed-9be1-822f384dc88a"
      },
      "execution_count": 152,
      "outputs": [
        {
          "output_type": "stream",
          "name": "stdout",
          "text": [
            "Собственные значения и собственные векторы в порядке убывания:\n",
            "\n",
            "(437.77467247979934, array([ 0.52106591, -0.26934744,  0.5804131 ,  0.56485654]))\n",
            "(137.10457072021043, array([-0.37741762, -0.92329566, -0.02449161, -0.06694199]))\n",
            "(22.01353133569724, array([-0.71956635,  0.24438178,  0.14212637,  0.63427274]))\n",
            "(3.107225464292861, array([ 0.26128628, -0.12350962, -0.80144925,  0.52359713]))\n"
          ]
        }
      ]
    },
    {
      "cell_type": "markdown",
      "source": [
        "Оценим долю дисперсии, которая описывается найденными компонентами."
      ],
      "metadata": {
        "id": "S-phgCgAA3W8"
      }
    },
    {
      "cell_type": "code",
      "source": [
        "eig_sum = sum(eig_values)\n",
        "var_exp = [(i / eig_sum) * 100 for i in sorted(eig_values, reverse=True)]\n",
        "cum_var_exp = np.cumsum(var_exp)\n",
        "\n",
        "print(f'Доля дисперсии, описываемая каждой из компонент: \\n{var_exp}\\n')\n",
        "print(f'Кумулятивная доля дисперсии по компонентам: \\n{cum_var_exp}')"
      ],
      "metadata": {
        "colab": {
          "base_uri": "https://localhost:8080/"
        },
        "id": "dMttb8-qA4QT",
        "outputId": "b576de37-05a6-4e5b-c1ee-8fbc6dbff89d"
      },
      "execution_count": 153,
      "outputs": [
        {
          "output_type": "stream",
          "name": "stdout",
          "text": [
            "Доля дисперсии, описываемая каждой из компонент: \n",
            "[72.9624454132999, 22.850761786701742, 3.6689218892828745, 0.517870910715477]\n",
            "\n",
            "Кумулятивная доля дисперсии по компонентам: \n",
            "[ 72.96244541  95.8132072   99.48212909 100.        ]\n"
          ]
        }
      ]
    },
    {
      "cell_type": "markdown",
      "source": [
        "Таким образом, первая главная компонента описывает почти 73% информации, а первые две в сумме - 95.8%. В то же время последняя компонента описывает всего 0.5% и может быть отброжена без страха значительных потерь в качестве нашего анализа. Мы отбросим последние две компоненты, оставив первые две."
      ],
      "metadata": {
        "id": "mMy0mh2jBoPe"
      }
    },
    {
      "cell_type": "code",
      "source": [
        "# Сформируем вектор весов из собственных векторов, соответствующий первым двум главным компонентам\n",
        "W = np.hstack([eig_pairs[i][1].reshape(4,1) for i in range(2)])\n",
        "\n",
        "print(f'Матрица весов W:\\n', W)"
      ],
      "metadata": {
        "colab": {
          "base_uri": "https://localhost:8080/"
        },
        "id": "naGdycixB5m8",
        "outputId": "3701abdc-57e8-43b0-fd33-254701adcc51"
      },
      "execution_count": 154,
      "outputs": [
        {
          "output_type": "stream",
          "name": "stdout",
          "text": [
            "Матрица весов W:\n",
            " [[ 0.52106591 -0.37741762]\n",
            " [-0.26934744 -0.92329566]\n",
            " [ 0.5804131  -0.02449161]\n",
            " [ 0.56485654 -0.06694199]]\n"
          ]
        }
      ]
    },
    {
      "cell_type": "code",
      "source": [
        "# Сформируем новую матрицу \"объекты-признаки\"\n",
        "Z = X.dot(W)\n",
        "Z[:10]"
      ],
      "metadata": {
        "colab": {
          "base_uri": "https://localhost:8080/"
        },
        "id": "9ArJmh8mDivc",
        "outputId": "1ea3929e-520b-4502-bbc4-dff8f6451abc"
      },
      "execution_count": 155,
      "outputs": [
        {
          "output_type": "execute_result",
          "data": {
            "text/plain": [
              "array([[-2.26470281, -0.4800266 ],\n",
              "       [-2.08096115,  0.67413356],\n",
              "       [-2.36422905,  0.34190802],\n",
              "       [-2.29938422,  0.59739451],\n",
              "       [-2.38984217, -0.64683538],\n",
              "       [-2.07563095, -1.48917752],\n",
              "       [-2.44402884, -0.0476442 ],\n",
              "       [-2.23284716, -0.22314807],\n",
              "       [-2.33464048,  1.11532768],\n",
              "       [-2.18432817,  0.46901356]])"
            ]
          },
          "metadata": {},
          "execution_count": 155
        }
      ]
    },
    {
      "cell_type": "code",
      "source": [
        "print(Z.shape)\n",
        "print(X.shape)\n",
        "print(W.shape)"
      ],
      "metadata": {
        "colab": {
          "base_uri": "https://localhost:8080/"
        },
        "id": "3feeJ8EOhZPa",
        "outputId": "c4a4cf5a-98d4-4c19-b3d8-be80f203f2c6"
      },
      "execution_count": 156,
      "outputs": [
        {
          "output_type": "stream",
          "name": "stdout",
          "text": [
            "(150, 2)\n",
            "(150, 4)\n",
            "(4, 2)\n"
          ]
        }
      ]
    },
    {
      "cell_type": "code",
      "source": [
        "plt.figure(figsize=(10, 8))\n",
        "\n",
        "for c, i in zip(\"rgb\", [0, 1, 2]):\n",
        "  plt.scatter(Z[y == i, 0], Z[y == i, 1], c=c)\n",
        "  \n",
        "plt.xlabel('Главная компонента 1')\n",
        "plt.ylabel('Главная компонента 2')\n",
        "plt.title('PCA датасета IRIS')\n",
        "plt.show()"
      ],
      "metadata": {
        "colab": {
          "base_uri": "https://localhost:8080/",
          "height": 513
        },
        "id": "rw10u-0NDrff",
        "outputId": "abdee6e1-6f2d-4d9e-c09d-50767a0b13c7"
      },
      "execution_count": 157,
      "outputs": [
        {
          "output_type": "display_data",
          "data": {
            "text/plain": [
              "<Figure size 720x576 with 1 Axes>"
            ],
            "image/png": "[encoded data removed]"
          },
          "metadata": {
            "needs_background": "light"
          }
        }
      ]
    },
    {
      "cell_type": "code",
      "source": [
        "Z_train, Z_test, y_z_train, y_z_test = train_test_split(Z, y,\n",
        "                                                    test_size=0.2,\n",
        "                                                    random_state=42,\n",
        "                                                    stratify=y)"
      ],
      "metadata": {
        "id": "jYFhUe4fEeOY"
      },
      "execution_count": 158,
      "outputs": []
    },
    {
      "cell_type": "code",
      "source": [
        "y_z_pred_train = get_knn(Z_train, y_z_train, Z_train, k)\n",
        "y_z_pred = get_knn(Z_train, y_z_train, Z_test, k)\n",
        "\n",
        "print(f'Точность алгоритма на трейне при k = {k}: {get_accuracy(y_z_pred_train, y_z_train):.3f}')\n",
        "print(f'Точность алгоритма на тесте при k = {k}: {get_accuracy(y_z_pred, y_z_test):.3f}')"
      ],
      "metadata": {
        "colab": {
          "base_uri": "https://localhost:8080/"
        },
        "id": "aIROrjQwEm7x",
        "outputId": "41592871-6c26-4770-a2e8-97b3845595a3"
      },
      "execution_count": 159,
      "outputs": [
        {
          "output_type": "stream",
          "name": "stdout",
          "text": [
            "Точность алгоритма на трейне при k = 5: 0.975\n",
            "Точность алгоритма на тесте при k = 5: 0.933\n"
          ]
        }
      ]
    },
    {
      "cell_type": "markdown",
      "source": [
        "Вернёмся к задаче №2:\n",
        "\n",
        "\"Написать свою реализацию метода главных компонент с помощью сингулярного разложения с использованием функции numpy.linalg.svd(). Применить к данным на уроке и сравнить ответы.\""
      ],
      "metadata": {
        "id": "zsHkzqMgL9qr"
      }
    },
    {
      "cell_type": "code",
      "source": [
        "U, s, W = np.linalg.svd(X)"
      ],
      "metadata": {
        "id": "CtEhogd2YEnP"
      },
      "execution_count": 160,
      "outputs": []
    },
    {
      "cell_type": "code",
      "source": [
        "V = W.T"
      ],
      "metadata": {
        "id": "s0zzQJH3buG0"
      },
      "execution_count": 161,
      "outputs": []
    },
    {
      "cell_type": "code",
      "source": [
        "D = np.zeros_like(X, dtype=float)\n",
        "D[np.diag_indices(min(X.shape))] = s"
      ],
      "metadata": {
        "id": "HHKGopOecKOR"
      },
      "execution_count": 162,
      "outputs": []
    },
    {
      "cell_type": "code",
      "source": [
        "print(U.shape)\n",
        "print(V.shape)\n",
        "print(D.shape)"
      ],
      "metadata": {
        "colab": {
          "base_uri": "https://localhost:8080/"
        },
        "id": "pgSZdI3JglDx",
        "outputId": "da6e2b86-7a36-48f1-a84c-5f2600826ea5"
      },
      "execution_count": 163,
      "outputs": [
        {
          "output_type": "stream",
          "name": "stdout",
          "text": [
            "(150, 150)\n",
            "(4, 4)\n",
            "(150, 4)\n"
          ]
        }
      ]
    },
    {
      "cell_type": "code",
      "source": [
        "print(U)"
      ],
      "metadata": {
        "colab": {
          "base_uri": "https://localhost:8080/"
        },
        "id": "MXDgzXTfcfwm",
        "outputId": "c1632cd3-75a7-49e4-ce7b-cac63e13d043"
      },
      "execution_count": 164,
      "outputs": [
        {
          "output_type": "stream",
          "name": "stdout",
          "text": [
            "[[-1.08239531e-01 -4.09957970e-02  2.72186462e-02 ...  5.43380310e-02\n",
            "   1.96438400e-03  2.46978090e-03]\n",
            " [-9.94577561e-02  5.75731483e-02  5.00034005e-02 ...  5.12936114e-03\n",
            "   8.48544595e-02  5.83496936e-03]\n",
            " [-1.12996303e-01  2.92000319e-02 -9.42089147e-03 ...  2.75184277e-02\n",
            "   1.78604309e-01  1.49419118e-01]\n",
            " ...\n",
            " [ 7.27030413e-02 -2.29793601e-02 -3.84023516e-02 ...  9.89532683e-01\n",
            "  -1.25488246e-02 -7.17729676e-04]\n",
            " [ 6.56112167e-02 -8.63643414e-02 -1.98939364e-01 ... -1.41206665e-02\n",
            "   9.52049996e-01 -2.32048811e-02]\n",
            " [ 4.59137323e-02  2.07800179e-03 -1.12588405e-01 ... -8.30595907e-04\n",
            "  -2.19201906e-02  9.77300244e-01]]\n"
          ]
        }
      ]
    },
    {
      "cell_type": "code",
      "source": [
        "print(V)"
      ],
      "metadata": {
        "colab": {
          "base_uri": "https://localhost:8080/"
        },
        "id": "GISagymFcmWR",
        "outputId": "1dba333a-c949-44fb-d1ee-ab1da2a322fe"
      },
      "execution_count": 165,
      "outputs": [
        {
          "output_type": "stream",
          "name": "stdout",
          "text": [
            "[[ 0.52106591 -0.37741762  0.71956635  0.26128628]\n",
            " [-0.26934744 -0.92329566 -0.24438178 -0.12350962]\n",
            " [ 0.5804131  -0.02449161 -0.14212637 -0.80144925]\n",
            " [ 0.56485654 -0.06694199 -0.63427274  0.52359713]]\n"
          ]
        }
      ]
    },
    {
      "cell_type": "code",
      "source": [
        "print(D)"
      ],
      "metadata": {
        "colab": {
          "base_uri": "https://localhost:8080/"
        },
        "id": "7BTwoMovcppm",
        "outputId": "a04e2580-04ca-40da-f849-76a5b2deac68"
      },
      "execution_count": 166,
      "outputs": [
        {
          "output_type": "stream",
          "name": "stdout",
          "text": [
            "[[20.92306556  0.          0.          0.        ]\n",
            " [ 0.         11.7091661   0.          0.        ]\n",
            " [ 0.          0.          4.69185798  0.        ]\n",
            " [ 0.          0.          0.          1.76273239]\n",
            " [ 0.          0.          0.          0.        ]\n",
            " [ 0.          0.          0.          0.        ]\n",
            " [ 0.          0.          0.          0.        ]\n",
            " [ 0.          0.          0.          0.        ]\n",
            " [ 0.          0.          0.          0.        ]\n",
            " [ 0.          0.          0.          0.        ]\n",
            " [ 0.          0.          0.          0.        ]\n",
            " [ 0.          0.          0.          0.        ]\n",
            " [ 0.          0.          0.          0.        ]\n",
            " [ 0.          0.          0.          0.        ]\n",
            " [ 0.          0.          0.          0.        ]\n",
            " [ 0.          0.          0.          0.        ]\n",
            " [ 0.          0.          0.          0.        ]\n",
            " [ 0.          0.          0.          0.        ]\n",
            " [ 0.          0.          0.          0.        ]\n",
            " [ 0.          0.          0.          0.        ]\n",
            " [ 0.          0.          0.          0.        ]\n",
            " [ 0.          0.          0.          0.        ]\n",
            " [ 0.          0.          0.          0.        ]\n",
            " [ 0.          0.          0.          0.        ]\n",
            " [ 0.          0.          0.          0.        ]\n",
            " [ 0.          0.          0.          0.        ]\n",
            " [ 0.          0.          0.          0.        ]\n",
            " [ 0.          0.          0.          0.        ]\n",
            " [ 0.          0.          0.          0.        ]\n",
            " [ 0.          0.          0.          0.        ]\n",
            " [ 0.          0.          0.          0.        ]\n",
            " [ 0.          0.          0.          0.        ]\n",
            " [ 0.          0.          0.          0.        ]\n",
            " [ 0.          0.          0.          0.        ]\n",
            " [ 0.          0.          0.          0.        ]\n",
            " [ 0.          0.          0.          0.        ]\n",
            " [ 0.          0.          0.          0.        ]\n",
            " [ 0.          0.          0.          0.        ]\n",
            " [ 0.          0.          0.          0.        ]\n",
            " [ 0.          0.          0.          0.        ]\n",
            " [ 0.          0.          0.          0.        ]\n",
            " [ 0.          0.          0.          0.        ]\n",
            " [ 0.          0.          0.          0.        ]\n",
            " [ 0.          0.          0.          0.        ]\n",
            " [ 0.          0.          0.          0.        ]\n",
            " [ 0.          0.          0.          0.        ]\n",
            " [ 0.          0.          0.          0.        ]\n",
            " [ 0.          0.          0.          0.        ]\n",
            " [ 0.          0.          0.          0.        ]\n",
            " [ 0.          0.          0.          0.        ]\n",
            " [ 0.          0.          0.          0.        ]\n",
            " [ 0.          0.          0.          0.        ]\n",
            " [ 0.          0.          0.          0.        ]\n",
            " [ 0.          0.          0.          0.        ]\n",
            " [ 0.          0.          0.          0.        ]\n",
            " [ 0.          0.          0.          0.        ]\n",
            " [ 0.          0.          0.          0.        ]\n",
            " [ 0.          0.          0.          0.        ]\n",
            " [ 0.          0.          0.          0.        ]\n",
            " [ 0.          0.          0.          0.        ]\n",
            " [ 0.          0.          0.          0.        ]\n",
            " [ 0.          0.          0.          0.        ]\n",
            " [ 0.          0.          0.          0.        ]\n",
            " [ 0.          0.          0.          0.        ]\n",
            " [ 0.          0.          0.          0.        ]\n",
            " [ 0.          0.          0.          0.        ]\n",
            " [ 0.          0.          0.          0.        ]\n",
            " [ 0.          0.          0.          0.        ]\n",
            " [ 0.          0.          0.          0.        ]\n",
            " [ 0.          0.          0.          0.        ]\n",
            " [ 0.          0.          0.          0.        ]\n",
            " [ 0.          0.          0.          0.        ]\n",
            " [ 0.          0.          0.          0.        ]\n",
            " [ 0.          0.          0.          0.        ]\n",
            " [ 0.          0.          0.          0.        ]\n",
            " [ 0.          0.          0.          0.        ]\n",
            " [ 0.          0.          0.          0.        ]\n",
            " [ 0.          0.          0.          0.        ]\n",
            " [ 0.          0.          0.          0.        ]\n",
            " [ 0.          0.          0.          0.        ]\n",
            " [ 0.          0.          0.          0.        ]\n",
            " [ 0.          0.          0.          0.        ]\n",
            " [ 0.          0.          0.          0.        ]\n",
            " [ 0.          0.          0.          0.        ]\n",
            " [ 0.          0.          0.          0.        ]\n",
            " [ 0.          0.          0.          0.        ]\n",
            " [ 0.          0.          0.          0.        ]\n",
            " [ 0.          0.          0.          0.        ]\n",
            " [ 0.          0.          0.          0.        ]\n",
            " [ 0.          0.          0.          0.        ]\n",
            " [ 0.          0.          0.          0.        ]\n",
            " [ 0.          0.          0.          0.        ]\n",
            " [ 0.          0.          0.          0.        ]\n",
            " [ 0.          0.          0.          0.        ]\n",
            " [ 0.          0.          0.          0.        ]\n",
            " [ 0.          0.          0.          0.        ]\n",
            " [ 0.          0.          0.          0.        ]\n",
            " [ 0.          0.          0.          0.        ]\n",
            " [ 0.          0.          0.          0.        ]\n",
            " [ 0.          0.          0.          0.        ]\n",
            " [ 0.          0.          0.          0.        ]\n",
            " [ 0.          0.          0.          0.        ]\n",
            " [ 0.          0.          0.          0.        ]\n",
            " [ 0.          0.          0.          0.        ]\n",
            " [ 0.          0.          0.          0.        ]\n",
            " [ 0.          0.          0.          0.        ]\n",
            " [ 0.          0.          0.          0.        ]\n",
            " [ 0.          0.          0.          0.        ]\n",
            " [ 0.          0.          0.          0.        ]\n",
            " [ 0.          0.          0.          0.        ]\n",
            " [ 0.          0.          0.          0.        ]\n",
            " [ 0.          0.          0.          0.        ]\n",
            " [ 0.          0.          0.          0.        ]\n",
            " [ 0.          0.          0.          0.        ]\n",
            " [ 0.          0.          0.          0.        ]\n",
            " [ 0.          0.          0.          0.        ]\n",
            " [ 0.          0.          0.          0.        ]\n",
            " [ 0.          0.          0.          0.        ]\n",
            " [ 0.          0.          0.          0.        ]\n",
            " [ 0.          0.          0.          0.        ]\n",
            " [ 0.          0.          0.          0.        ]\n",
            " [ 0.          0.          0.          0.        ]\n",
            " [ 0.          0.          0.          0.        ]\n",
            " [ 0.          0.          0.          0.        ]\n",
            " [ 0.          0.          0.          0.        ]\n",
            " [ 0.          0.          0.          0.        ]\n",
            " [ 0.          0.          0.          0.        ]\n",
            " [ 0.          0.          0.          0.        ]\n",
            " [ 0.          0.          0.          0.        ]\n",
            " [ 0.          0.          0.          0.        ]\n",
            " [ 0.          0.          0.          0.        ]\n",
            " [ 0.          0.          0.          0.        ]\n",
            " [ 0.          0.          0.          0.        ]\n",
            " [ 0.          0.          0.          0.        ]\n",
            " [ 0.          0.          0.          0.        ]\n",
            " [ 0.          0.          0.          0.        ]\n",
            " [ 0.          0.          0.          0.        ]\n",
            " [ 0.          0.          0.          0.        ]\n",
            " [ 0.          0.          0.          0.        ]\n",
            " [ 0.          0.          0.          0.        ]\n",
            " [ 0.          0.          0.          0.        ]\n",
            " [ 0.          0.          0.          0.        ]\n",
            " [ 0.          0.          0.          0.        ]\n",
            " [ 0.          0.          0.          0.        ]\n",
            " [ 0.          0.          0.          0.        ]\n",
            " [ 0.          0.          0.          0.        ]\n",
            " [ 0.          0.          0.          0.        ]\n",
            " [ 0.          0.          0.          0.        ]\n",
            " [ 0.          0.          0.          0.        ]\n",
            " [ 0.          0.          0.          0.        ]]\n"
          ]
        }
      ]
    },
    {
      "cell_type": "code",
      "source": [
        "trunc = 2\n",
        "U_truncate = U[:, :trunc]\n",
        "S_truncate = D[:trunc]\n",
        "V_truncate = V[:trunc, :]"
      ],
      "metadata": {
        "id": "1bz1lz-etjhE"
      },
      "execution_count": 167,
      "outputs": []
    },
    {
      "cell_type": "code",
      "source": [
        "X_truncate = U_truncate @ np.diag(S_truncate)"
      ],
      "metadata": {
        "id": "w_z2LxSAuvxP"
      },
      "execution_count": 168,
      "outputs": []
    },
    {
      "cell_type": "code",
      "source": [
        "X_truncate.shape"
      ],
      "metadata": {
        "colab": {
          "base_uri": "https://localhost:8080/"
        },
        "id": "ofgfE7NwwF1F",
        "outputId": "b7fbd04b-eddd-44fa-a021-bfe8fe09c54c"
      },
      "execution_count": 169,
      "outputs": [
        {
          "output_type": "execute_result",
          "data": {
            "text/plain": [
              "(150,)"
            ]
          },
          "metadata": {},
          "execution_count": 169
        }
      ]
    },
    {
      "cell_type": "code",
      "source": [
        "D_train, D_test, y_d_train, y_d_test = train_test_split(X_truncate, y,\n",
        "                                                    test_size=0.2,\n",
        "                                                    random_state=42,\n",
        "                                                    stratify=y)"
      ],
      "metadata": {
        "id": "RBnLDIqVh_jf"
      },
      "execution_count": 170,
      "outputs": []
    },
    {
      "cell_type": "code",
      "source": [
        "k = 5\n",
        "y_d_pred_train = get_knn(D_train, y_d_train, D_train, k)\n",
        "y_d_pred = get_knn(D_train, y_d_train, D_test, k)\n",
        "\n",
        "print(f'Точность алгоритма на трейне при k = {k}: {get_accuracy(y_d_pred_train, y_d_train):.3f}')\n",
        "print(f'Точность алгоритма на тесте при k = {k}: {get_accuracy(y_d_pred, y_d_test):.3f}')"
      ],
      "metadata": {
        "colab": {
          "base_uri": "https://localhost:8080/"
        },
        "id": "l8uz0MpIiLV8",
        "outputId": "e71bce58-736b-43ee-c8d1-53ae0e256260"
      },
      "execution_count": 171,
      "outputs": [
        {
          "output_type": "stream",
          "name": "stdout",
          "text": [
            "Точность алгоритма на трейне при k = 5: 0.967\n",
            "Точность алгоритма на тесте при k = 5: 0.800\n"
          ]
        }
      ]
    },
    {
      "cell_type": "markdown",
      "source": [
        "При использовании SVD-разложения точность на трейне очень близки, а вот на тесте точность хуже при использовании SVD"
      ],
      "metadata": {
        "id": "eob_ANiAx6iB"
      }
    }
  ]
}